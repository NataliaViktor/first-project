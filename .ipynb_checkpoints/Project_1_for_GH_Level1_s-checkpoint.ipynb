{
 "cells": [
  {
   "cell_type": "markdown",
   "metadata": {},
   "source": [
    "# Отток клиентов"
   ]
  },
  {
   "cell_type": "markdown",
   "metadata": {},
   "source": [
    "Из «Бета-Банка» стали уходить клиенты. Каждый месяц. Немного, но заметно. Банковские маркетологи посчитали: сохранять текущих клиентов дешевле, чем привлекать новых.\n",
    "\n",
    "Нужно спрогнозировать, уйдёт клиент из банка в ближайшее время или нет. Вам предоставлены исторические данные о поведении клиентов и расторжении договоров с банком. \n",
    "\n",
    "Постройте модель с предельно большим значением *F1*-меры. Чтобы сдать проект успешно, нужно довести метрику до 0.59. Проверьте *F1*-меру на тестовой выборке самостоятельно.\n",
    "\n",
    "Дополнительно измеряйте *AUC-ROC*, сравнивайте её значение с *F1*-мерой.\n",
    "\n",
    "Источник данных: [https://www.kaggle.com/barelydedicated/bank-customer-churn-modeling](https://www.kaggle.com/barelydedicated/bank-customer-churn-modeling)"
   ]
  },
  {
   "cell_type": "markdown",
   "metadata": {},
   "source": [
    "## Описание проекта\n",
    "Для исследования представлены данные о клиентах Банка: \n",
    "\n",
    "    -характеристики клиента: пол, возраст, страна проживания, идентификаторы, кредитный рейтинг, предполагаемая зарплата;\n",
    "    -данные об активности клиента: количество продуктов, используемых клиентом, наличие кредитной карты, баланс на счете, сколько лет является клиентом банка, активность клиента;\n",
    "    -данные о факте ухода клиента из банка (расторжение договора с банком)\n",
    "\n",
    "Поставлена задача на основе представленных данных спрогнозировать уход клиента из банка (расторжении договора)."
   ]
  },
  {
   "cell_type": "markdown",
   "metadata": {},
   "source": [
    "## Подготовка данных"
   ]
  },
  {
   "cell_type": "code",
   "execution_count": 1,
   "metadata": {},
   "outputs": [],
   "source": [
    "import pandas as pd\n",
    "import seaborn as sns\n",
    "import numpy as np\n",
    "import matplotlib.pyplot as plt\n",
    "\n",
    "from sklearn import datasets\n",
    "\n",
    "from sklearn.linear_model import LogisticRegression\n",
    "from sklearn.tree import DecisionTreeClassifier\n",
    "from sklearn.ensemble import RandomForestClassifier\n",
    "from sklearn.dummy import DummyClassifier\n",
    "from sklearn.preprocessing import OrdinalEncoder \n",
    "from sklearn.preprocessing import StandardScaler \n",
    "\n",
    "from sklearn.model_selection import train_test_split\n",
    "from sklearn.model_selection import GridSearchCV\n",
    "from sklearn.utils import shuffle\n",
    "from joblib import dump\n",
    "\n",
    "from sklearn.metrics import roc_curve\n",
    "from sklearn.metrics import precision_score, recall_score\n",
    "from sklearn.metrics import precision_recall_curve\n",
    "from sklearn.metrics import f1_score\n",
    "from sklearn.metrics import roc_auc_score\n",
    "\n",
    "data = pd.read_csv('Churn.csv')"
   ]
  },
  {
   "cell_type": "markdown",
   "metadata": {},
   "source": [
    "### Просмотр данных"
   ]
  },
  {
   "cell_type": "code",
   "execution_count": 2,
   "metadata": {},
   "outputs": [
    {
     "data": {
      "text/html": [
       "<div>\n",
       "<style scoped>\n",
       "    .dataframe tbody tr th:only-of-type {\n",
       "        vertical-align: middle;\n",
       "    }\n",
       "\n",
       "    .dataframe tbody tr th {\n",
       "        vertical-align: top;\n",
       "    }\n",
       "\n",
       "    .dataframe thead th {\n",
       "        text-align: right;\n",
       "    }\n",
       "</style>\n",
       "<table border=\"1\" class=\"dataframe\">\n",
       "  <thead>\n",
       "    <tr style=\"text-align: right;\">\n",
       "      <th></th>\n",
       "      <th>RowNumber</th>\n",
       "      <th>CustomerId</th>\n",
       "      <th>Surname</th>\n",
       "      <th>CreditScore</th>\n",
       "      <th>Geography</th>\n",
       "      <th>Gender</th>\n",
       "      <th>Age</th>\n",
       "      <th>Tenure</th>\n",
       "      <th>Balance</th>\n",
       "      <th>NumOfProducts</th>\n",
       "      <th>HasCrCard</th>\n",
       "      <th>IsActiveMember</th>\n",
       "      <th>EstimatedSalary</th>\n",
       "      <th>Exited</th>\n",
       "    </tr>\n",
       "  </thead>\n",
       "  <tbody>\n",
       "    <tr>\n",
       "      <th>0</th>\n",
       "      <td>1</td>\n",
       "      <td>15634602</td>\n",
       "      <td>Hargrave</td>\n",
       "      <td>619</td>\n",
       "      <td>France</td>\n",
       "      <td>Female</td>\n",
       "      <td>42</td>\n",
       "      <td>2.0</td>\n",
       "      <td>0.00</td>\n",
       "      <td>1</td>\n",
       "      <td>1</td>\n",
       "      <td>1</td>\n",
       "      <td>101348.88</td>\n",
       "      <td>1</td>\n",
       "    </tr>\n",
       "    <tr>\n",
       "      <th>1</th>\n",
       "      <td>2</td>\n",
       "      <td>15647311</td>\n",
       "      <td>Hill</td>\n",
       "      <td>608</td>\n",
       "      <td>Spain</td>\n",
       "      <td>Female</td>\n",
       "      <td>41</td>\n",
       "      <td>1.0</td>\n",
       "      <td>83807.86</td>\n",
       "      <td>1</td>\n",
       "      <td>0</td>\n",
       "      <td>1</td>\n",
       "      <td>112542.58</td>\n",
       "      <td>0</td>\n",
       "    </tr>\n",
       "    <tr>\n",
       "      <th>2</th>\n",
       "      <td>3</td>\n",
       "      <td>15619304</td>\n",
       "      <td>Onio</td>\n",
       "      <td>502</td>\n",
       "      <td>France</td>\n",
       "      <td>Female</td>\n",
       "      <td>42</td>\n",
       "      <td>8.0</td>\n",
       "      <td>159660.80</td>\n",
       "      <td>3</td>\n",
       "      <td>1</td>\n",
       "      <td>0</td>\n",
       "      <td>113931.57</td>\n",
       "      <td>1</td>\n",
       "    </tr>\n",
       "    <tr>\n",
       "      <th>3</th>\n",
       "      <td>4</td>\n",
       "      <td>15701354</td>\n",
       "      <td>Boni</td>\n",
       "      <td>699</td>\n",
       "      <td>France</td>\n",
       "      <td>Female</td>\n",
       "      <td>39</td>\n",
       "      <td>1.0</td>\n",
       "      <td>0.00</td>\n",
       "      <td>2</td>\n",
       "      <td>0</td>\n",
       "      <td>0</td>\n",
       "      <td>93826.63</td>\n",
       "      <td>0</td>\n",
       "    </tr>\n",
       "    <tr>\n",
       "      <th>4</th>\n",
       "      <td>5</td>\n",
       "      <td>15737888</td>\n",
       "      <td>Mitchell</td>\n",
       "      <td>850</td>\n",
       "      <td>Spain</td>\n",
       "      <td>Female</td>\n",
       "      <td>43</td>\n",
       "      <td>2.0</td>\n",
       "      <td>125510.82</td>\n",
       "      <td>1</td>\n",
       "      <td>1</td>\n",
       "      <td>1</td>\n",
       "      <td>79084.10</td>\n",
       "      <td>0</td>\n",
       "    </tr>\n",
       "    <tr>\n",
       "      <th>...</th>\n",
       "      <td>...</td>\n",
       "      <td>...</td>\n",
       "      <td>...</td>\n",
       "      <td>...</td>\n",
       "      <td>...</td>\n",
       "      <td>...</td>\n",
       "      <td>...</td>\n",
       "      <td>...</td>\n",
       "      <td>...</td>\n",
       "      <td>...</td>\n",
       "      <td>...</td>\n",
       "      <td>...</td>\n",
       "      <td>...</td>\n",
       "      <td>...</td>\n",
       "    </tr>\n",
       "    <tr>\n",
       "      <th>9995</th>\n",
       "      <td>9996</td>\n",
       "      <td>15606229</td>\n",
       "      <td>Obijiaku</td>\n",
       "      <td>771</td>\n",
       "      <td>France</td>\n",
       "      <td>Male</td>\n",
       "      <td>39</td>\n",
       "      <td>5.0</td>\n",
       "      <td>0.00</td>\n",
       "      <td>2</td>\n",
       "      <td>1</td>\n",
       "      <td>0</td>\n",
       "      <td>96270.64</td>\n",
       "      <td>0</td>\n",
       "    </tr>\n",
       "    <tr>\n",
       "      <th>9996</th>\n",
       "      <td>9997</td>\n",
       "      <td>15569892</td>\n",
       "      <td>Johnstone</td>\n",
       "      <td>516</td>\n",
       "      <td>France</td>\n",
       "      <td>Male</td>\n",
       "      <td>35</td>\n",
       "      <td>10.0</td>\n",
       "      <td>57369.61</td>\n",
       "      <td>1</td>\n",
       "      <td>1</td>\n",
       "      <td>1</td>\n",
       "      <td>101699.77</td>\n",
       "      <td>0</td>\n",
       "    </tr>\n",
       "    <tr>\n",
       "      <th>9997</th>\n",
       "      <td>9998</td>\n",
       "      <td>15584532</td>\n",
       "      <td>Liu</td>\n",
       "      <td>709</td>\n",
       "      <td>France</td>\n",
       "      <td>Female</td>\n",
       "      <td>36</td>\n",
       "      <td>7.0</td>\n",
       "      <td>0.00</td>\n",
       "      <td>1</td>\n",
       "      <td>0</td>\n",
       "      <td>1</td>\n",
       "      <td>42085.58</td>\n",
       "      <td>1</td>\n",
       "    </tr>\n",
       "    <tr>\n",
       "      <th>9998</th>\n",
       "      <td>9999</td>\n",
       "      <td>15682355</td>\n",
       "      <td>Sabbatini</td>\n",
       "      <td>772</td>\n",
       "      <td>Germany</td>\n",
       "      <td>Male</td>\n",
       "      <td>42</td>\n",
       "      <td>3.0</td>\n",
       "      <td>75075.31</td>\n",
       "      <td>2</td>\n",
       "      <td>1</td>\n",
       "      <td>0</td>\n",
       "      <td>92888.52</td>\n",
       "      <td>1</td>\n",
       "    </tr>\n",
       "    <tr>\n",
       "      <th>9999</th>\n",
       "      <td>10000</td>\n",
       "      <td>15628319</td>\n",
       "      <td>Walker</td>\n",
       "      <td>792</td>\n",
       "      <td>France</td>\n",
       "      <td>Female</td>\n",
       "      <td>28</td>\n",
       "      <td>NaN</td>\n",
       "      <td>130142.79</td>\n",
       "      <td>1</td>\n",
       "      <td>1</td>\n",
       "      <td>0</td>\n",
       "      <td>38190.78</td>\n",
       "      <td>0</td>\n",
       "    </tr>\n",
       "  </tbody>\n",
       "</table>\n",
       "<p>10000 rows × 14 columns</p>\n",
       "</div>"
      ],
      "text/plain": [
       "      RowNumber  CustomerId    Surname  CreditScore Geography  Gender  Age  \\\n",
       "0             1    15634602   Hargrave          619    France  Female   42   \n",
       "1             2    15647311       Hill          608     Spain  Female   41   \n",
       "2             3    15619304       Onio          502    France  Female   42   \n",
       "3             4    15701354       Boni          699    France  Female   39   \n",
       "4             5    15737888   Mitchell          850     Spain  Female   43   \n",
       "...         ...         ...        ...          ...       ...     ...  ...   \n",
       "9995       9996    15606229   Obijiaku          771    France    Male   39   \n",
       "9996       9997    15569892  Johnstone          516    France    Male   35   \n",
       "9997       9998    15584532        Liu          709    France  Female   36   \n",
       "9998       9999    15682355  Sabbatini          772   Germany    Male   42   \n",
       "9999      10000    15628319     Walker          792    France  Female   28   \n",
       "\n",
       "      Tenure    Balance  NumOfProducts  HasCrCard  IsActiveMember  \\\n",
       "0        2.0       0.00              1          1               1   \n",
       "1        1.0   83807.86              1          0               1   \n",
       "2        8.0  159660.80              3          1               0   \n",
       "3        1.0       0.00              2          0               0   \n",
       "4        2.0  125510.82              1          1               1   \n",
       "...      ...        ...            ...        ...             ...   \n",
       "9995     5.0       0.00              2          1               0   \n",
       "9996    10.0   57369.61              1          1               1   \n",
       "9997     7.0       0.00              1          0               1   \n",
       "9998     3.0   75075.31              2          1               0   \n",
       "9999     NaN  130142.79              1          1               0   \n",
       "\n",
       "      EstimatedSalary  Exited  \n",
       "0           101348.88       1  \n",
       "1           112542.58       0  \n",
       "2           113931.57       1  \n",
       "3            93826.63       0  \n",
       "4            79084.10       0  \n",
       "...               ...     ...  \n",
       "9995         96270.64       0  \n",
       "9996        101699.77       0  \n",
       "9997         42085.58       1  \n",
       "9998         92888.52       1  \n",
       "9999         38190.78       0  \n",
       "\n",
       "[10000 rows x 14 columns]"
      ]
     },
     "metadata": {},
     "output_type": "display_data"
    }
   ],
   "source": [
    "display(data)"
   ]
  },
  {
   "cell_type": "code",
   "execution_count": 3,
   "metadata": {},
   "outputs": [
    {
     "name": "stdout",
     "output_type": "stream",
     "text": [
      "<class 'pandas.core.frame.DataFrame'>\n",
      "RangeIndex: 10000 entries, 0 to 9999\n",
      "Data columns (total 14 columns):\n",
      " #   Column           Non-Null Count  Dtype  \n",
      "---  ------           --------------  -----  \n",
      " 0   RowNumber        10000 non-null  int64  \n",
      " 1   CustomerId       10000 non-null  int64  \n",
      " 2   Surname          10000 non-null  object \n",
      " 3   CreditScore      10000 non-null  int64  \n",
      " 4   Geography        10000 non-null  object \n",
      " 5   Gender           10000 non-null  object \n",
      " 6   Age              10000 non-null  int64  \n",
      " 7   Tenure           9091 non-null   float64\n",
      " 8   Balance          10000 non-null  float64\n",
      " 9   NumOfProducts    10000 non-null  int64  \n",
      " 10  HasCrCard        10000 non-null  int64  \n",
      " 11  IsActiveMember   10000 non-null  int64  \n",
      " 12  EstimatedSalary  10000 non-null  float64\n",
      " 13  Exited           10000 non-null  int64  \n",
      "dtypes: float64(3), int64(8), object(3)\n",
      "memory usage: 1.1+ MB\n"
     ]
    }
   ],
   "source": [
    "data.info()"
   ]
  },
  {
   "cell_type": "code",
   "execution_count": 4,
   "metadata": {},
   "outputs": [
    {
     "name": "stdout",
     "output_type": "stream",
     "text": [
      "20.369999999999997\n"
     ]
    }
   ],
   "source": [
    "#посмотрим соотношение представленных исходов в колонке целевого признака:\n",
    "\n",
    "print(data['Exited'].sum()/len(data)*100)\n"
   ]
  },
  {
   "cell_type": "code",
   "execution_count": 5,
   "metadata": {},
   "outputs": [
    {
     "data": {
      "text/plain": [
       "RowNumber            0\n",
       "CustomerId           0\n",
       "Surname              0\n",
       "CreditScore          0\n",
       "Geography            0\n",
       "Gender               0\n",
       "Age                  0\n",
       "Tenure             909\n",
       "Balance              0\n",
       "NumOfProducts        0\n",
       "HasCrCard            0\n",
       "IsActiveMember       0\n",
       "EstimatedSalary      0\n",
       "Exited               0\n",
       "dtype: int64"
      ]
     },
     "execution_count": 5,
     "metadata": {},
     "output_type": "execute_result"
    }
   ],
   "source": [
    "data.isna().sum()"
   ]
  },
  {
   "cell_type": "code",
   "execution_count": 6,
   "metadata": {
    "scrolled": true
   },
   "outputs": [
    {
     "name": "stdout",
     "output_type": "stream",
     "text": [
      "Exited\n"
     ]
    },
    {
     "data": {
      "text/plain": [
       "array([1, 0], dtype=int64)"
      ]
     },
     "metadata": {},
     "output_type": "display_data"
    },
    {
     "name": "stdout",
     "output_type": "stream",
     "text": [
      "CreditScore\n"
     ]
    },
    {
     "data": {
      "text/plain": [
       "array([619, 608, 502, 699, 850, 645, 822, 376, 501, 684, 528, 497, 476,\n",
       "       549, 635, 616, 653, 587, 726, 732, 636, 510, 669, 846, 577, 756,\n",
       "       571, 574, 411, 591, 533, 553, 520, 722, 475, 490, 804, 582, 472,\n",
       "       465, 556, 834, 660, 776, 829, 637, 550, 698, 585, 788, 655, 601,\n",
       "       656, 725, 511, 614, 742, 687, 555, 603, 751, 581, 735, 661, 675,\n",
       "       738, 813, 657, 604, 519, 664, 678, 757, 416, 665, 777, 543, 506,\n",
       "       493, 652, 750, 729, 646, 647, 808, 524, 769, 730, 515, 773, 814,\n",
       "       710, 413, 623, 670, 622, 785, 605, 479, 685, 538, 562, 721, 628,\n",
       "       668, 828, 674, 625, 432, 770, 758, 795, 686, 789, 589, 461, 584,\n",
       "       579, 663, 682, 793, 691, 485, 650, 754, 535, 716, 539, 706, 586,\n",
       "       631, 717, 800, 683, 704, 615, 667, 484, 480, 578, 512, 606, 597,\n",
       "       778, 514, 525, 715, 580, 807, 521, 759, 516, 711, 618, 643, 671,\n",
       "       689, 620, 676, 572, 695, 592, 567, 694, 547, 594, 673, 610, 767,\n",
       "       763, 712, 703, 662, 659, 523, 772, 545, 634, 739, 771, 681, 544,\n",
       "       696, 766, 727, 693, 557, 531, 498, 651, 791, 733, 811, 707, 714,\n",
       "       782, 775, 799, 602, 744, 588, 747, 583, 627, 731, 629, 438, 642,\n",
       "       806, 474, 559, 429, 680, 749, 734, 644, 626, 649, 805, 718, 840,\n",
       "       630, 654, 762, 568, 613, 522, 737, 648, 443, 640, 540, 460, 593,\n",
       "       801, 611, 802, 745, 483, 690, 492, 709, 705, 560, 752, 701, 537,\n",
       "       487, 596, 702, 486, 724, 548, 464, 790, 534, 748, 494, 590, 468,\n",
       "       509, 818, 816, 536, 753, 774, 621, 569, 658, 798, 641, 542, 692,\n",
       "       639, 765, 570, 638, 599, 632, 779, 527, 564, 833, 504, 842, 508,\n",
       "       417, 598, 741, 607, 761, 848, 546, 439, 755, 760, 526, 713, 700,\n",
       "       666, 566, 495, 688, 612, 477, 427, 839, 819, 720, 459, 503, 624,\n",
       "       529, 563, 482, 796, 445, 746, 786, 554, 672, 787, 499, 844, 450,\n",
       "       815, 838, 803, 736, 633, 600, 679, 517, 792, 743, 488, 421, 841,\n",
       "       708, 507, 505, 456, 435, 561, 518, 565, 728, 784, 552, 609, 764,\n",
       "       697, 723, 551, 444, 719, 496, 541, 830, 812, 677, 420, 595, 617,\n",
       "       809, 500, 826, 434, 513, 478, 797, 363, 399, 463, 780, 452, 575,\n",
       "       837, 794, 824, 428, 823, 781, 849, 489, 431, 457, 768, 831, 359,\n",
       "       820, 573, 576, 558, 817, 449, 440, 415, 821, 530, 350, 446, 425,\n",
       "       740, 481, 783, 358, 845, 451, 458, 469, 423, 404, 836, 473, 835,\n",
       "       466, 491, 351, 827, 843, 365, 532, 414, 453, 471, 401, 810, 832,\n",
       "       470, 447, 422, 825, 430, 436, 426, 408, 847, 418, 437, 410, 454,\n",
       "       407, 455, 462, 386, 405, 383, 395, 467, 433, 442, 424, 448, 441,\n",
       "       367, 412, 382, 373, 419], dtype=int64)"
      ]
     },
     "metadata": {},
     "output_type": "display_data"
    },
    {
     "name": "stdout",
     "output_type": "stream",
     "text": [
      "Geography\n"
     ]
    },
    {
     "data": {
      "text/plain": [
       "array(['France', 'Spain', 'Germany'], dtype=object)"
      ]
     },
     "metadata": {},
     "output_type": "display_data"
    },
    {
     "name": "stdout",
     "output_type": "stream",
     "text": [
      "Gender\n"
     ]
    },
    {
     "data": {
      "text/plain": [
       "array(['Female', 'Male'], dtype=object)"
      ]
     },
     "metadata": {},
     "output_type": "display_data"
    },
    {
     "name": "stdout",
     "output_type": "stream",
     "text": [
      "Age\n"
     ]
    },
    {
     "data": {
      "text/plain": [
       "array([42, 41, 39, 43, 44, 50, 29, 27, 31, 24, 34, 25, 35, 45, 58, 32, 38,\n",
       "       46, 36, 33, 40, 51, 61, 49, 37, 19, 66, 56, 26, 21, 55, 75, 22, 30,\n",
       "       28, 65, 48, 52, 57, 73, 47, 54, 72, 20, 67, 79, 62, 53, 80, 59, 68,\n",
       "       23, 60, 70, 63, 64, 18, 82, 69, 74, 71, 76, 77, 88, 85, 84, 78, 81,\n",
       "       92, 83], dtype=int64)"
      ]
     },
     "metadata": {},
     "output_type": "display_data"
    },
    {
     "name": "stdout",
     "output_type": "stream",
     "text": [
      "Tenure\n"
     ]
    },
    {
     "data": {
      "text/plain": [
       "array([ 2.,  1.,  8.,  7.,  4.,  6.,  3., 10.,  5.,  9.,  0., nan])"
      ]
     },
     "metadata": {},
     "output_type": "display_data"
    },
    {
     "name": "stdout",
     "output_type": "stream",
     "text": [
      "HasCrCard\n"
     ]
    },
    {
     "data": {
      "text/plain": [
       "array([1, 0], dtype=int64)"
      ]
     },
     "metadata": {},
     "output_type": "display_data"
    },
    {
     "name": "stdout",
     "output_type": "stream",
     "text": [
      "IsActiveMember\n"
     ]
    },
    {
     "data": {
      "text/plain": [
       "array([1, 0], dtype=int64)"
      ]
     },
     "metadata": {},
     "output_type": "display_data"
    }
   ],
   "source": [
    "#исследуем спектр данных в колонках с признаками. В данном случае предполагаемый состав данных \n",
    "#позволяет изучить их визуально с агрегированием по уникальным значениям\n",
    "\n",
    "print('Exited')\n",
    "display(data['Exited'].unique())\n",
    "print('CreditScore')\n",
    "display(data['CreditScore'].unique())\n",
    "print('Geography')\n",
    "display(data['Geography'].unique())\n",
    "print('Gender')\n",
    "display(data['Gender'].unique())\n",
    "print('Age')\n",
    "display(data['Age'].unique())\n",
    "print('Tenure')\n",
    "display(data['Tenure'].unique())\n",
    "print('HasCrCard')\n",
    "display(data['HasCrCard'].unique())\n",
    "print('IsActiveMember')\n",
    "display(data['IsActiveMember'].unique())\n",
    "\n"
   ]
  },
  {
   "cell_type": "markdown",
   "metadata": {},
   "source": [
    "### Заполнение пропусков"
   ]
  },
  {
   "cell_type": "code",
   "execution_count": 7,
   "metadata": {},
   "outputs": [
    {
     "name": "stdout",
     "output_type": "stream",
     "text": [
      "4.997690023099769\n"
     ]
    }
   ],
   "source": [
    "#заполним пропуски в столбце 'Tenure' \n",
    "tenure_mean=data['Tenure'].mean()\n",
    "\n",
    "print(tenure_mean)\n",
    "\n",
    "#просмотр остальных данных в столбце показал, что данные представлены без дробной части\n",
    "\n",
    "tenure_mean=int(tenure_mean+1)\n",
    "\n",
    "data['Tenure'] = data['Tenure'].fillna(tenure_mean)"
   ]
  },
  {
   "cell_type": "markdown",
   "metadata": {},
   "source": [
    "Заполнены пропуски данных - сведения о сроке взаимоотношений с банком в 909 строках. Используем для заполнения пропусков среднее значение по остальным данным. Предполагаем, что клиенты с отсутствующими данными также некоторое время являются клиентами банка (имеют несколько продуктов, иные характеристики отношений), например, отсутствие данных может быть связано с тем, что учет \"старых\" клиентов велся в другой системе и пр.\n"
   ]
  },
  {
   "cell_type": "code",
   "execution_count": 8,
   "metadata": {
    "scrolled": true
   },
   "outputs": [
    {
     "data": {
      "text/plain": [
       "RowNumber          0\n",
       "CustomerId         0\n",
       "Surname            0\n",
       "CreditScore        0\n",
       "Geography          0\n",
       "Gender             0\n",
       "Age                0\n",
       "Tenure             0\n",
       "Balance            0\n",
       "NumOfProducts      0\n",
       "HasCrCard          0\n",
       "IsActiveMember     0\n",
       "EstimatedSalary    0\n",
       "Exited             0\n",
       "dtype: int64"
      ]
     },
     "execution_count": 8,
     "metadata": {},
     "output_type": "execute_result"
    }
   ],
   "source": [
    "data.isna().sum()"
   ]
  },
  {
   "cell_type": "markdown",
   "metadata": {},
   "source": [
    "### Поиск аномальных значений"
   ]
  },
  {
   "cell_type": "code",
   "execution_count": 9,
   "metadata": {},
   "outputs": [
    {
     "name": "stdout",
     "output_type": "stream",
     "text": [
      "                Age   CreditScore       Tenure  EstimatedSalary\n",
      "count  10000.000000  10000.000000  10000.00000     10000.000000\n",
      "mean      38.921800    650.528800      4.99790    100090.239881\n",
      "std       10.487806     96.653299      2.76001     57510.492818\n",
      "min       18.000000    350.000000      0.00000        11.580000\n",
      "25%       32.000000    584.000000      3.00000     51002.110000\n",
      "50%       37.000000    652.000000      5.00000    100193.915000\n",
      "75%       44.000000    718.000000      7.00000    149388.247500\n",
      "max       92.000000    850.000000     10.00000    199992.480000\n"
     ]
    }
   ],
   "source": [
    "#рассмотрим численные данные с целью выявления возможных ошибок и аномальных значений\n",
    "\n",
    "print(data[['Age','CreditScore','Tenure','EstimatedSalary']].describe())"
   ]
  },
  {
   "cell_type": "markdown",
   "metadata": {},
   "source": [
    "### Отбор признаков"
   ]
  },
  {
   "cell_type": "code",
   "execution_count": 10,
   "metadata": {},
   "outputs": [],
   "source": [
    "# отберем данные, которые будем рассматривать как признаки для модели:\n",
    "\n",
    "features = data.drop(['CustomerId','RowNumber','Surname'], axis=1)\n"
   ]
  },
  {
   "cell_type": "code",
   "execution_count": 11,
   "metadata": {},
   "outputs": [
    {
     "data": {
      "text/html": [
       "<div>\n",
       "<style scoped>\n",
       "    .dataframe tbody tr th:only-of-type {\n",
       "        vertical-align: middle;\n",
       "    }\n",
       "\n",
       "    .dataframe tbody tr th {\n",
       "        vertical-align: top;\n",
       "    }\n",
       "\n",
       "    .dataframe thead th {\n",
       "        text-align: right;\n",
       "    }\n",
       "</style>\n",
       "<table border=\"1\" class=\"dataframe\">\n",
       "  <thead>\n",
       "    <tr style=\"text-align: right;\">\n",
       "      <th></th>\n",
       "      <th>CreditScore</th>\n",
       "      <th>Geography</th>\n",
       "      <th>Gender</th>\n",
       "      <th>Age</th>\n",
       "      <th>Tenure</th>\n",
       "      <th>Balance</th>\n",
       "      <th>NumOfProducts</th>\n",
       "      <th>HasCrCard</th>\n",
       "      <th>IsActiveMember</th>\n",
       "      <th>EstimatedSalary</th>\n",
       "      <th>Exited</th>\n",
       "    </tr>\n",
       "  </thead>\n",
       "  <tbody>\n",
       "    <tr>\n",
       "      <th>0</th>\n",
       "      <td>619</td>\n",
       "      <td>France</td>\n",
       "      <td>Female</td>\n",
       "      <td>42</td>\n",
       "      <td>2.0</td>\n",
       "      <td>0.00</td>\n",
       "      <td>1</td>\n",
       "      <td>1</td>\n",
       "      <td>1</td>\n",
       "      <td>101348.88</td>\n",
       "      <td>1</td>\n",
       "    </tr>\n",
       "    <tr>\n",
       "      <th>1</th>\n",
       "      <td>608</td>\n",
       "      <td>Spain</td>\n",
       "      <td>Female</td>\n",
       "      <td>41</td>\n",
       "      <td>1.0</td>\n",
       "      <td>83807.86</td>\n",
       "      <td>1</td>\n",
       "      <td>0</td>\n",
       "      <td>1</td>\n",
       "      <td>112542.58</td>\n",
       "      <td>0</td>\n",
       "    </tr>\n",
       "    <tr>\n",
       "      <th>2</th>\n",
       "      <td>502</td>\n",
       "      <td>France</td>\n",
       "      <td>Female</td>\n",
       "      <td>42</td>\n",
       "      <td>8.0</td>\n",
       "      <td>159660.80</td>\n",
       "      <td>3</td>\n",
       "      <td>1</td>\n",
       "      <td>0</td>\n",
       "      <td>113931.57</td>\n",
       "      <td>1</td>\n",
       "    </tr>\n",
       "    <tr>\n",
       "      <th>3</th>\n",
       "      <td>699</td>\n",
       "      <td>France</td>\n",
       "      <td>Female</td>\n",
       "      <td>39</td>\n",
       "      <td>1.0</td>\n",
       "      <td>0.00</td>\n",
       "      <td>2</td>\n",
       "      <td>0</td>\n",
       "      <td>0</td>\n",
       "      <td>93826.63</td>\n",
       "      <td>0</td>\n",
       "    </tr>\n",
       "    <tr>\n",
       "      <th>4</th>\n",
       "      <td>850</td>\n",
       "      <td>Spain</td>\n",
       "      <td>Female</td>\n",
       "      <td>43</td>\n",
       "      <td>2.0</td>\n",
       "      <td>125510.82</td>\n",
       "      <td>1</td>\n",
       "      <td>1</td>\n",
       "      <td>1</td>\n",
       "      <td>79084.10</td>\n",
       "      <td>0</td>\n",
       "    </tr>\n",
       "  </tbody>\n",
       "</table>\n",
       "</div>"
      ],
      "text/plain": [
       "   CreditScore Geography  Gender  Age  Tenure    Balance  NumOfProducts  \\\n",
       "0          619    France  Female   42     2.0       0.00              1   \n",
       "1          608     Spain  Female   41     1.0   83807.86              1   \n",
       "2          502    France  Female   42     8.0  159660.80              3   \n",
       "3          699    France  Female   39     1.0       0.00              2   \n",
       "4          850     Spain  Female   43     2.0  125510.82              1   \n",
       "\n",
       "   HasCrCard  IsActiveMember  EstimatedSalary  Exited  \n",
       "0          1               1        101348.88       1  \n",
       "1          0               1        112542.58       0  \n",
       "2          1               0        113931.57       1  \n",
       "3          0               0         93826.63       0  \n",
       "4          1               1         79084.10       0  "
      ]
     },
     "metadata": {},
     "output_type": "display_data"
    }
   ],
   "source": [
    "#проверяем, что осталось:\n",
    "\n",
    "display(features.head())"
   ]
  },
  {
   "cell_type": "markdown",
   "metadata": {},
   "source": [
    "### Преобразование признаков"
   ]
  },
  {
   "cell_type": "code",
   "execution_count": 12,
   "metadata": {},
   "outputs": [],
   "source": [
    "#преобразуем категориальные признаки в численные техникой прямого кодирования One-Hot Encoding\n",
    "\n",
    "features = pd.get_dummies(features, drop_first=True)"
   ]
  },
  {
   "cell_type": "code",
   "execution_count": 13,
   "metadata": {},
   "outputs": [
    {
     "name": "stdout",
     "output_type": "stream",
     "text": [
      "<class 'pandas.core.frame.DataFrame'>\n",
      "RangeIndex: 10000 entries, 0 to 9999\n",
      "Data columns (total 12 columns):\n",
      " #   Column             Non-Null Count  Dtype  \n",
      "---  ------             --------------  -----  \n",
      " 0   CreditScore        10000 non-null  int64  \n",
      " 1   Age                10000 non-null  int64  \n",
      " 2   Tenure             10000 non-null  float64\n",
      " 3   Balance            10000 non-null  float64\n",
      " 4   NumOfProducts      10000 non-null  int64  \n",
      " 5   HasCrCard          10000 non-null  int64  \n",
      " 6   IsActiveMember     10000 non-null  int64  \n",
      " 7   EstimatedSalary    10000 non-null  float64\n",
      " 8   Exited             10000 non-null  int64  \n",
      " 9   Geography_Germany  10000 non-null  uint8  \n",
      " 10  Geography_Spain    10000 non-null  uint8  \n",
      " 11  Gender_Male        10000 non-null  uint8  \n",
      "dtypes: float64(3), int64(6), uint8(3)\n",
      "memory usage: 732.5 KB\n"
     ]
    }
   ],
   "source": [
    "features.info()"
   ]
  },
  {
   "cell_type": "markdown",
   "metadata": {},
   "source": [
    "### Разделение выборки"
   ]
  },
  {
   "cell_type": "code",
   "execution_count": 14,
   "metadata": {},
   "outputs": [
    {
     "name": "stdout",
     "output_type": "stream",
     "text": [
      "(6000, 11)\n",
      "(6000,)\n",
      "(2000, 11)\n",
      "(2000,)\n",
      "(2000, 11)\n",
      "(2000,)\n"
     ]
    }
   ],
   "source": [
    "#разделим данные на две выборки: обучающую и другую (далее она будет разделена на тестовую и валидационную)\n",
    "features_train, features_other=train_test_split(features,test_size=0.4, random_state=12345)\n",
    "\n",
    "#разделим \"другую\" выборку на валидационную и тестовую\n",
    "features_valid, features_test=train_test_split(features_other,test_size=0.5, random_state=12345)\n",
    "\n",
    "\n",
    "#создадим переменные для признаков и целевого признака в обучающей выборке\n",
    "y_train=features_train['Exited']\n",
    "x_train=features_train.drop(['Exited'],axis=1)\n",
    "\n",
    "\n",
    "#создадим переменные для признаков и целевого признака в тестовой выборке\n",
    "y_valid=features_valid['Exited']\n",
    "x_valid=features_valid.drop(['Exited'],axis=1)\n",
    "\n",
    "\n",
    "#создадим переменные для признаков и целевого признака в валидационной выборке\n",
    "y_test=features_test['Exited']\n",
    "x_test=features_test.drop(['Exited'],axis=1)\n",
    "\n",
    "\n",
    "#выведем на экран данные о размере выборок и целевых признаках\n",
    "\n",
    "print(x_train.shape)\n",
    "print(y_train.shape)\n",
    "print(x_valid.shape)\n",
    "print(y_valid.shape)\n",
    "print(x_test.shape)\n",
    "print(y_test.shape)"
   ]
  },
  {
   "cell_type": "code",
   "execution_count": 15,
   "metadata": {},
   "outputs": [
    {
     "data": {
      "text/html": [
       "<div>\n",
       "<style scoped>\n",
       "    .dataframe tbody tr th:only-of-type {\n",
       "        vertical-align: middle;\n",
       "    }\n",
       "\n",
       "    .dataframe tbody tr th {\n",
       "        vertical-align: top;\n",
       "    }\n",
       "\n",
       "    .dataframe thead th {\n",
       "        text-align: right;\n",
       "    }\n",
       "</style>\n",
       "<table border=\"1\" class=\"dataframe\">\n",
       "  <thead>\n",
       "    <tr style=\"text-align: right;\">\n",
       "      <th></th>\n",
       "      <th>CreditScore</th>\n",
       "      <th>Age</th>\n",
       "      <th>Tenure</th>\n",
       "      <th>Balance</th>\n",
       "      <th>NumOfProducts</th>\n",
       "      <th>HasCrCard</th>\n",
       "      <th>IsActiveMember</th>\n",
       "      <th>EstimatedSalary</th>\n",
       "      <th>Geography_Germany</th>\n",
       "      <th>Geography_Spain</th>\n",
       "      <th>Gender_Male</th>\n",
       "    </tr>\n",
       "  </thead>\n",
       "  <tbody>\n",
       "    <tr>\n",
       "      <th>7479</th>\n",
       "      <td>-0.886751</td>\n",
       "      <td>-0.373192</td>\n",
       "      <td>1.082277</td>\n",
       "      <td>1.232271</td>\n",
       "      <td>1</td>\n",
       "      <td>1</td>\n",
       "      <td>0</td>\n",
       "      <td>-0.187705</td>\n",
       "      <td>0</td>\n",
       "      <td>1</td>\n",
       "      <td>1</td>\n",
       "    </tr>\n",
       "    <tr>\n",
       "      <th>3411</th>\n",
       "      <td>0.608663</td>\n",
       "      <td>-0.183385</td>\n",
       "      <td>1.082277</td>\n",
       "      <td>0.600563</td>\n",
       "      <td>1</td>\n",
       "      <td>0</td>\n",
       "      <td>0</td>\n",
       "      <td>-0.333945</td>\n",
       "      <td>0</td>\n",
       "      <td>0</td>\n",
       "      <td>0</td>\n",
       "    </tr>\n",
       "    <tr>\n",
       "      <th>6027</th>\n",
       "      <td>2.052152</td>\n",
       "      <td>0.480939</td>\n",
       "      <td>-0.737696</td>\n",
       "      <td>1.027098</td>\n",
       "      <td>2</td>\n",
       "      <td>0</td>\n",
       "      <td>1</td>\n",
       "      <td>1.503095</td>\n",
       "      <td>1</td>\n",
       "      <td>0</td>\n",
       "      <td>1</td>\n",
       "    </tr>\n",
       "    <tr>\n",
       "      <th>1247</th>\n",
       "      <td>-1.457915</td>\n",
       "      <td>-1.417129</td>\n",
       "      <td>0.354288</td>\n",
       "      <td>-1.233163</td>\n",
       "      <td>2</td>\n",
       "      <td>1</td>\n",
       "      <td>0</td>\n",
       "      <td>-1.071061</td>\n",
       "      <td>0</td>\n",
       "      <td>0</td>\n",
       "      <td>1</td>\n",
       "    </tr>\n",
       "    <tr>\n",
       "      <th>3716</th>\n",
       "      <td>0.130961</td>\n",
       "      <td>-1.132419</td>\n",
       "      <td>-1.101690</td>\n",
       "      <td>1.140475</td>\n",
       "      <td>1</td>\n",
       "      <td>0</td>\n",
       "      <td>0</td>\n",
       "      <td>1.524268</td>\n",
       "      <td>1</td>\n",
       "      <td>0</td>\n",
       "      <td>0</td>\n",
       "    </tr>\n",
       "  </tbody>\n",
       "</table>\n",
       "</div>"
      ],
      "text/plain": [
       "      CreditScore       Age    Tenure   Balance  NumOfProducts  HasCrCard  \\\n",
       "7479    -0.886751 -0.373192  1.082277  1.232271              1          1   \n",
       "3411     0.608663 -0.183385  1.082277  0.600563              1          0   \n",
       "6027     2.052152  0.480939 -0.737696  1.027098              2          0   \n",
       "1247    -1.457915 -1.417129  0.354288 -1.233163              2          1   \n",
       "3716     0.130961 -1.132419 -1.101690  1.140475              1          0   \n",
       "\n",
       "      IsActiveMember  EstimatedSalary  Geography_Germany  Geography_Spain  \\\n",
       "7479               0        -0.187705                  0                1   \n",
       "3411               0        -0.333945                  0                0   \n",
       "6027               1         1.503095                  1                0   \n",
       "1247               0        -1.071061                  0                0   \n",
       "3716               0         1.524268                  1                0   \n",
       "\n",
       "      Gender_Male  \n",
       "7479            1  \n",
       "3411            0  \n",
       "6027            1  \n",
       "1247            1  \n",
       "3716            0  "
      ]
     },
     "metadata": {},
     "output_type": "display_data"
    },
    {
     "data": {
      "text/html": [
       "<div>\n",
       "<style scoped>\n",
       "    .dataframe tbody tr th:only-of-type {\n",
       "        vertical-align: middle;\n",
       "    }\n",
       "\n",
       "    .dataframe tbody tr th {\n",
       "        vertical-align: top;\n",
       "    }\n",
       "\n",
       "    .dataframe thead th {\n",
       "        text-align: right;\n",
       "    }\n",
       "</style>\n",
       "<table border=\"1\" class=\"dataframe\">\n",
       "  <thead>\n",
       "    <tr style=\"text-align: right;\">\n",
       "      <th></th>\n",
       "      <th>CreditScore</th>\n",
       "      <th>Age</th>\n",
       "      <th>Tenure</th>\n",
       "      <th>Balance</th>\n",
       "      <th>NumOfProducts</th>\n",
       "      <th>HasCrCard</th>\n",
       "      <th>IsActiveMember</th>\n",
       "      <th>EstimatedSalary</th>\n",
       "      <th>Geography_Germany</th>\n",
       "      <th>Geography_Spain</th>\n",
       "      <th>Gender_Male</th>\n",
       "    </tr>\n",
       "  </thead>\n",
       "  <tbody>\n",
       "    <tr>\n",
       "      <th>8532</th>\n",
       "      <td>-0.699824</td>\n",
       "      <td>-0.373192</td>\n",
       "      <td>-1.101690</td>\n",
       "      <td>-1.233163</td>\n",
       "      <td>2</td>\n",
       "      <td>1</td>\n",
       "      <td>0</td>\n",
       "      <td>-0.015173</td>\n",
       "      <td>0</td>\n",
       "      <td>0</td>\n",
       "      <td>0</td>\n",
       "    </tr>\n",
       "    <tr>\n",
       "      <th>5799</th>\n",
       "      <td>-0.284431</td>\n",
       "      <td>0.575842</td>\n",
       "      <td>-0.737696</td>\n",
       "      <td>-1.233163</td>\n",
       "      <td>1</td>\n",
       "      <td>1</td>\n",
       "      <td>1</td>\n",
       "      <td>1.471724</td>\n",
       "      <td>0</td>\n",
       "      <td>0</td>\n",
       "      <td>0</td>\n",
       "    </tr>\n",
       "    <tr>\n",
       "      <th>5511</th>\n",
       "      <td>0.151731</td>\n",
       "      <td>-0.657902</td>\n",
       "      <td>-1.829679</td>\n",
       "      <td>0.438711</td>\n",
       "      <td>1</td>\n",
       "      <td>1</td>\n",
       "      <td>0</td>\n",
       "      <td>-1.367107</td>\n",
       "      <td>1</td>\n",
       "      <td>0</td>\n",
       "      <td>1</td>\n",
       "    </tr>\n",
       "    <tr>\n",
       "      <th>7365</th>\n",
       "      <td>-0.876366</td>\n",
       "      <td>-0.278288</td>\n",
       "      <td>1.810266</td>\n",
       "      <td>1.239884</td>\n",
       "      <td>1</td>\n",
       "      <td>1</td>\n",
       "      <td>1</td>\n",
       "      <td>-0.786517</td>\n",
       "      <td>0</td>\n",
       "      <td>1</td>\n",
       "      <td>0</td>\n",
       "    </tr>\n",
       "    <tr>\n",
       "      <th>7367</th>\n",
       "      <td>-0.481743</td>\n",
       "      <td>0.291132</td>\n",
       "      <td>1.810266</td>\n",
       "      <td>-1.233163</td>\n",
       "      <td>2</td>\n",
       "      <td>1</td>\n",
       "      <td>0</td>\n",
       "      <td>1.358533</td>\n",
       "      <td>0</td>\n",
       "      <td>1</td>\n",
       "      <td>1</td>\n",
       "    </tr>\n",
       "  </tbody>\n",
       "</table>\n",
       "</div>"
      ],
      "text/plain": [
       "      CreditScore       Age    Tenure   Balance  NumOfProducts  HasCrCard  \\\n",
       "8532    -0.699824 -0.373192 -1.101690 -1.233163              2          1   \n",
       "5799    -0.284431  0.575842 -0.737696 -1.233163              1          1   \n",
       "5511     0.151731 -0.657902 -1.829679  0.438711              1          1   \n",
       "7365    -0.876366 -0.278288  1.810266  1.239884              1          1   \n",
       "7367    -0.481743  0.291132  1.810266 -1.233163              2          1   \n",
       "\n",
       "      IsActiveMember  EstimatedSalary  Geography_Germany  Geography_Spain  \\\n",
       "8532               0        -0.015173                  0                0   \n",
       "5799               1         1.471724                  0                0   \n",
       "5511               0        -1.367107                  1                0   \n",
       "7365               1        -0.786517                  0                1   \n",
       "7367               0         1.358533                  0                1   \n",
       "\n",
       "      Gender_Male  \n",
       "8532            0  \n",
       "5799            0  \n",
       "5511            1  \n",
       "7365            0  \n",
       "7367            1  "
      ]
     },
     "metadata": {},
     "output_type": "display_data"
    },
    {
     "data": {
      "text/html": [
       "<div>\n",
       "<style scoped>\n",
       "    .dataframe tbody tr th:only-of-type {\n",
       "        vertical-align: middle;\n",
       "    }\n",
       "\n",
       "    .dataframe tbody tr th {\n",
       "        vertical-align: top;\n",
       "    }\n",
       "\n",
       "    .dataframe thead th {\n",
       "        text-align: right;\n",
       "    }\n",
       "</style>\n",
       "<table border=\"1\" class=\"dataframe\">\n",
       "  <thead>\n",
       "    <tr style=\"text-align: right;\">\n",
       "      <th></th>\n",
       "      <th>CreditScore</th>\n",
       "      <th>Age</th>\n",
       "      <th>Tenure</th>\n",
       "      <th>Balance</th>\n",
       "      <th>NumOfProducts</th>\n",
       "      <th>HasCrCard</th>\n",
       "      <th>IsActiveMember</th>\n",
       "      <th>EstimatedSalary</th>\n",
       "      <th>Geography_Germany</th>\n",
       "      <th>Geography_Spain</th>\n",
       "      <th>Gender_Male</th>\n",
       "    </tr>\n",
       "  </thead>\n",
       "  <tbody>\n",
       "    <tr>\n",
       "      <th>7041</th>\n",
       "      <td>-2.226392</td>\n",
       "      <td>-0.088482</td>\n",
       "      <td>-1.101690</td>\n",
       "      <td>-1.233163</td>\n",
       "      <td>2</td>\n",
       "      <td>1</td>\n",
       "      <td>0</td>\n",
       "      <td>0.647083</td>\n",
       "      <td>0</td>\n",
       "      <td>0</td>\n",
       "      <td>1</td>\n",
       "    </tr>\n",
       "    <tr>\n",
       "      <th>5709</th>\n",
       "      <td>-0.087120</td>\n",
       "      <td>0.006422</td>\n",
       "      <td>1.446272</td>\n",
       "      <td>-1.233163</td>\n",
       "      <td>1</td>\n",
       "      <td>1</td>\n",
       "      <td>0</td>\n",
       "      <td>-1.658410</td>\n",
       "      <td>0</td>\n",
       "      <td>0</td>\n",
       "      <td>0</td>\n",
       "    </tr>\n",
       "    <tr>\n",
       "      <th>7117</th>\n",
       "      <td>-0.917905</td>\n",
       "      <td>-0.752805</td>\n",
       "      <td>-0.009707</td>\n",
       "      <td>0.722307</td>\n",
       "      <td>1</td>\n",
       "      <td>1</td>\n",
       "      <td>1</td>\n",
       "      <td>-1.369334</td>\n",
       "      <td>0</td>\n",
       "      <td>1</td>\n",
       "      <td>1</td>\n",
       "    </tr>\n",
       "    <tr>\n",
       "      <th>7775</th>\n",
       "      <td>-0.253277</td>\n",
       "      <td>0.101325</td>\n",
       "      <td>1.810266</td>\n",
       "      <td>-1.233163</td>\n",
       "      <td>2</td>\n",
       "      <td>1</td>\n",
       "      <td>0</td>\n",
       "      <td>0.075086</td>\n",
       "      <td>0</td>\n",
       "      <td>1</td>\n",
       "      <td>1</td>\n",
       "    </tr>\n",
       "    <tr>\n",
       "      <th>8735</th>\n",
       "      <td>0.785204</td>\n",
       "      <td>-0.847708</td>\n",
       "      <td>1.810266</td>\n",
       "      <td>0.615625</td>\n",
       "      <td>1</td>\n",
       "      <td>0</td>\n",
       "      <td>1</td>\n",
       "      <td>-1.070919</td>\n",
       "      <td>0</td>\n",
       "      <td>0</td>\n",
       "      <td>1</td>\n",
       "    </tr>\n",
       "  </tbody>\n",
       "</table>\n",
       "</div>"
      ],
      "text/plain": [
       "      CreditScore       Age    Tenure   Balance  NumOfProducts  HasCrCard  \\\n",
       "7041    -2.226392 -0.088482 -1.101690 -1.233163              2          1   \n",
       "5709    -0.087120  0.006422  1.446272 -1.233163              1          1   \n",
       "7117    -0.917905 -0.752805 -0.009707  0.722307              1          1   \n",
       "7775    -0.253277  0.101325  1.810266 -1.233163              2          1   \n",
       "8735     0.785204 -0.847708  1.810266  0.615625              1          0   \n",
       "\n",
       "      IsActiveMember  EstimatedSalary  Geography_Germany  Geography_Spain  \\\n",
       "7041               0         0.647083                  0                0   \n",
       "5709               0        -1.658410                  0                0   \n",
       "7117               1        -1.369334                  0                1   \n",
       "7775               0         0.075086                  0                1   \n",
       "8735               1        -1.070919                  0                0   \n",
       "\n",
       "      Gender_Male  \n",
       "7041            1  \n",
       "5709            0  \n",
       "7117            1  \n",
       "7775            1  \n",
       "8735            1  "
      ]
     },
     "metadata": {},
     "output_type": "display_data"
    }
   ],
   "source": [
    "#отнормируем данные разного масштаба\n",
    "\n",
    "numeric = ['CreditScore', 'Age', 'Tenure', 'Balance','EstimatedSalary']\n",
    "\n",
    "scaler = StandardScaler()\n",
    "scaler.fit(x_train[numeric]) \n",
    "x_train[numeric] = scaler.transform(x_train[numeric])\n",
    "x_valid[numeric] = scaler.transform(x_valid[numeric])\n",
    "x_test[numeric] = scaler.transform(x_test[numeric])\n",
    "\n",
    "display(x_train.head())\n",
    "display(x_valid.head())\n",
    "display(x_test.head())"
   ]
  },
  {
   "cell_type": "markdown",
   "metadata": {},
   "source": [
    "**Вывод:** \n",
    "\n",
    "Просмотр данных показал, что всего представлены 10000 записей. Пропуски в данных обнаружены в столбце 'Tenure' \"Сколько лет человек является клиентом Банка\". Пропуски заполнены средними значениями сроков отношений клиентов и банка в выборке.\n",
    "\n",
    "Типы данных соответствуют требуемым для анализа в соответствии с соджержанием данных согласно описанию и задачам исследования. \n",
    "\n",
    "Данные об уникальных значениях и характеристики стодбцов с количественными значениями аномальных значений (отрицательный или недостаточный возраст, отрицательная зарплата и пр.) не выявлено.\n",
    "\n",
    "В датафрейме для целей дальнейшего обучения моделей оставили только данные, которые могут рассматриваться как влияющие признаки. \n",
    "\n",
    "Данные разделены на 3 выборки: обучающую, валидационную и тестовую. На тестовую выборку 20% данных. Преобразовали категориальные данные в численные методом ОНЕ (выбрали технику кодирования, которая позволит получить данные, пригодные для различных моделей). Далее данные были отнормированы, приведены к сопоставимому масштабу."
   ]
  },
  {
   "cell_type": "markdown",
   "metadata": {},
   "source": [
    "## Исследование задачи"
   ]
  },
  {
   "cell_type": "markdown",
   "metadata": {},
   "source": [
    "### Изучение баланса классов"
   ]
  },
  {
   "cell_type": "code",
   "execution_count": 16,
   "metadata": {},
   "outputs": [
    {
     "name": "stdout",
     "output_type": "stream",
     "text": [
      "20.369999999999997\n"
     ]
    }
   ],
   "source": [
    "#посмотрим соотношение представленных исходов в колонке целевого признака:\n",
    "\n",
    "print(data['Exited'].sum()/len(data)*100)\n"
   ]
  },
  {
   "cell_type": "markdown",
   "metadata": {},
   "source": [
    "Около 20% позиций в выборке описывают данные по клиентам, расторгнувшим договор с Банком (20,37% выборки положительный класс). Это существенно меньше общей совокупности данных и данных об остальных клиентах. Выборку можно считать несбалансированной. В первую очередь обучим и проанализируем модели без учета дисбаланса классов. "
   ]
  },
  {
   "cell_type": "markdown",
   "metadata": {},
   "source": [
    "### Логистическая регрессия"
   ]
  },
  {
   "cell_type": "code",
   "execution_count": 17,
   "metadata": {},
   "outputs": [
    {
     "name": "stdout",
     "output_type": "stream",
     "text": [
      "F1: 0.33108108108108103\n",
      "auc-roc 0.7586620412656742\n"
     ]
    }
   ],
   "source": [
    "#обучим модель логистической регрессии без учета дисбаланса классов:\n",
    "\n",
    "model = LogisticRegression(random_state=12345, solver='liblinear')\n",
    "\n",
    "model.fit(x_train, y_train)\n",
    "predicted_valid = model.predict(x_valid)\n",
    "    \n",
    "probabilities_valid = model.predict_proba(x_valid)\n",
    "probabilities_one_valid = probabilities_valid[:, 1]\n",
    "    \n",
    "auc_roc_LR= roc_auc_score(y_valid,probabilities_one_valid)\n",
    "\n",
    "print(\"F1:\", f1_score(y_valid, predicted_valid))\n",
    "print(\"auc-roc\", auc_roc_LR)\n",
    "\n"
   ]
  },
  {
   "cell_type": "markdown",
   "metadata": {},
   "source": [
    "Вывод: Получен низкий результат метрики F1 на валидационной выборке.Также довольно низкое значение auc-roc"
   ]
  },
  {
   "cell_type": "markdown",
   "metadata": {},
   "source": [
    "### Решающее дерево"
   ]
  },
  {
   "cell_type": "code",
   "execution_count": 18,
   "metadata": {},
   "outputs": [
    {
     "name": "stdout",
     "output_type": "stream",
     "text": [
      "Depth лучшей модели дерева решений 6  F1:  0.5696969696969697  auc-roc: 0.8164631712023421\n"
     ]
    }
   ],
   "source": [
    "#обучим модель на основе дерева решений с перебором гиперпараметра depth - глубина дерева, выбираем лучшую модель\n",
    "best_auc_roc_tree=0\n",
    "best_result_tree=0\n",
    "\n",
    "for depth in range(1,15):\n",
    "    model_tree=DecisionTreeClassifier(random_state=12345, max_depth=depth)\n",
    "    model_tree.fit(x_train,y_train)\n",
    "    \n",
    "    predicted_valid=model_tree.predict(x_valid)\n",
    "    result_tree=f1_score(y_valid,predicted_valid)\n",
    "    \n",
    "    probabilities_valid = model_tree.predict_proba(x_valid)\n",
    "    probabilities_one_valid = probabilities_valid[:, 1]\n",
    "    \n",
    "    auc_roc_tree= roc_auc_score(y_valid,probabilities_one_valid)\n",
    "         \n",
    "    if result_tree > best_result_tree:\n",
    "        best_result_tree = result_tree\n",
    "        d = depth\n",
    "        best_auc_roc_tree=auc_roc_tree\n",
    "\n",
    "print(\"Depth лучшей модели дерева решений\", d, \" F1: \", best_result_tree,\" auc-roc:\", best_auc_roc_tree)"
   ]
  },
  {
   "cell_type": "markdown",
   "metadata": {},
   "source": [
    "**Перебор гиперпараметра 'depth' наилучий результат модели по метрике F1 дал при значении гиперпараметра 'depth'=6. Значение F1 модели ниже заданного значения 0.59, auc-roc: 0.8164631712023421**"
   ]
  },
  {
   "cell_type": "markdown",
   "metadata": {},
   "source": [
    "### Случайный лес"
   ]
  },
  {
   "cell_type": "code",
   "execution_count": 19,
   "metadata": {},
   "outputs": [
    {
     "name": "stdout",
     "output_type": "stream",
     "text": [
      " F1 RandomForestClassifier :  0.5647743813682677  auc-roc: 0.8203700119163557\n"
     ]
    }
   ],
   "source": [
    "model_forest=RandomForestClassifier(random_state=12345,n_estimators=17,max_depth=22)\n",
    "model_forest.fit(x_train,y_train)\n",
    "predicted_valid=model_forest.predict(x_valid)\n",
    "result_forest = f1_score(y_valid, predicted_valid)\n",
    " \n",
    "probabilities_valid = model_forest.predict_proba(x_valid)\n",
    "probabilities_one_valid = probabilities_valid[:, 1]\n",
    "    \n",
    "auc_roc_forest= roc_auc_score(y_valid,probabilities_one_valid)\n",
    "         \n",
    "print(\" F1 RandomForestClassifier : \", result_forest, \" auc-roc:\", auc_roc_forest)  "
   ]
  },
  {
   "cell_type": "code",
   "execution_count": 20,
   "metadata": {},
   "outputs": [
    {
     "name": "stdout",
     "output_type": "stream",
     "text": [
      "Est лучшей модели 127  F1:  0.5952380952380952  auc-roc: 0.8416266430355858\n"
     ]
    }
   ],
   "source": [
    "# Обучим модель на основе случайного леса с перебором гиперпараметров, выбираем лучшую модель.\n",
    "# Для перебора гиперпараметра 'n_estimators' зафиксируем некоторое значение 'depth' максимальной глубины дерева\n",
    "best_auc_roc_forest=0\n",
    "best_result_forest=0\n",
    "\n",
    "for est in range(1,300):\n",
    "    model_forest=RandomForestClassifier(random_state=12345,n_estimators=est,max_depth=22)\n",
    "    model_forest.fit(x_train,y_train)\n",
    "    predicted_valid=model_forest.predict(x_valid)\n",
    "    result_forest = f1_score(y_valid, predicted_valid)\n",
    "    \n",
    "    probabilities_valid = model_forest.predict_proba(x_valid)\n",
    "    probabilities_one_valid = probabilities_valid[:, 1]\n",
    "    \n",
    "    auc_roc_forest= roc_auc_score(y_valid,probabilities_one_valid)\n",
    "         \n",
    "    if result_forest > best_result_forest:\n",
    "        best_result_forest = result_forest\n",
    "        n_est = est\n",
    "        best_auc_roc_forest=auc_roc_forest\n",
    "        \n",
    "print(\"Est лучшей модели\", n_est, \" F1: \",best_result_forest, \" auc-roc:\", best_auc_roc_forest)\n"
   ]
  },
  {
   "cell_type": "code",
   "execution_count": 21,
   "metadata": {},
   "outputs": [
    {
     "name": "stdout",
     "output_type": "stream",
     "text": [
      "depth лучшей модели 299  F1:  0.5606936416184971  auc-roc: 0.8244280754178286\n"
     ]
    }
   ],
   "source": [
    "best_auc_roc_forest=0\n",
    "best_result_forest=0\n",
    "\n",
    "for depth in range(1,300):\n",
    "    model_forest=RandomForestClassifier(random_state=12345,n_estimators=17,max_depth=depth)\n",
    "    model_forest.fit(x_train,y_train)\n",
    "    predicted_valid=model_forest.predict(x_valid)\n",
    "    result_forest = f1_score(y_valid, predicted_valid)\n",
    "    \n",
    "    probabilities_valid = model_forest.predict_proba(x_valid)\n",
    "    probabilities_one_valid = probabilities_valid[:, 1]\n",
    "    auc_roc_forest= roc_auc_score(y_valid,probabilities_one_valid)\n",
    "    \n",
    "if result_forest > best_result_forest:\n",
    "        best_result_forest = result_forest\n",
    "        best_depth = depth\n",
    "        best_auc_roc_forest=auc_roc_forest\n",
    "        \n",
    "print(\"depth лучшей модели\", best_depth, \" F1: \", best_result_forest, \" auc-roc:\", best_auc_roc_forest)        \n",
    " "
   ]
  },
  {
   "cell_type": "markdown",
   "metadata": {},
   "source": [
    "Вывод: Метрика F1  моделей LogisticRegression, DecisionTreeClassifier ниже заданного значения 0,59.\n",
    "\n",
    "**Наилучшее значение метрики F1 получено при обучении модели RandomForestClassifier с гиперпараметрами: n_estimators=127,max_depth=22  F1:  0.5952380952380952  auc-roc: 0.8416266430355858.** \n",
    "\n",
    "Продолжим исследование, применив различные методы корректировки дисбаланса в выборке."
   ]
  },
  {
   "cell_type": "markdown",
   "metadata": {},
   "source": [
    "## Борьба с дисбалансом"
   ]
  },
  {
   "cell_type": "markdown",
   "metadata": {},
   "source": [
    "### Применение балансирующего параметра в модели."
   ]
  },
  {
   "cell_type": "code",
   "execution_count": 22,
   "metadata": {},
   "outputs": [
    {
     "name": "stdout",
     "output_type": "stream",
     "text": [
      "F1_LR: 0.4888507718696398\n"
     ]
    }
   ],
   "source": [
    "#обучим модель логистической регресии с параметром, балансирующим классы:\n",
    "\n",
    "model = LogisticRegression(random_state=12345, solver='liblinear',class_weight='balanced')\n",
    "\n",
    "model.fit(x_train, y_train)\n",
    "predicted_valid_LR = model.predict(x_valid)\n",
    "\n",
    "print(\"F1_LR:\", f1_score(y_valid, predicted_valid_LR))"
   ]
  },
  {
   "cell_type": "markdown",
   "metadata": {},
   "source": [
    "**Метрика F1 модели логистической регессии с учетом баланса классов существенно увеличилась по сравнению с F1 логистической регрессии без учета баланса, рассчитанной в п. 3.1 (0.33108108108108103)**"
   ]
  },
  {
   "cell_type": "code",
   "execution_count": 23,
   "metadata": {},
   "outputs": [
    {
     "name": "stdout",
     "output_type": "stream",
     "text": [
      "Depth лучшей модели дерева решений 5  F1:  0.5963791267305644  auc-roc: 0.8310244134068074\n"
     ]
    }
   ],
   "source": [
    "#обучим модель на основе дерева решений с перебором гиперпараметра depth - глубина дерева, выбираем лучшую модель\n",
    "#с параметром, балансирующим классы:\n",
    "best_auc_roc_tree=0\n",
    "best_result_tree=0\n",
    "\n",
    "for depth in range(1,15):\n",
    "    model_tree=DecisionTreeClassifier(random_state=12345, max_depth=depth, class_weight='balanced')\n",
    "    model_tree.fit(x_train,y_train)\n",
    "    \n",
    "    predicted_valid=model_tree.predict(x_valid)\n",
    "    \n",
    "    result_tree=f1_score(y_valid,predicted_valid)\n",
    "    \n",
    "    probabilities_valid = model_tree.predict_proba(x_valid)\n",
    "    probabilities_one_valid = probabilities_valid[:, 1]\n",
    "    \n",
    "    auc_roc_tree= roc_auc_score(y_valid,probabilities_one_valid)\n",
    "     \n",
    "    if result_tree > best_result_tree:\n",
    "        best_result_tree = result_tree\n",
    "        d = depth\n",
    "        best_auc_roc_tree=auc_roc_tree\n",
    "        \n",
    "print(\"Depth лучшей модели дерева решений\", d, \" F1: \", best_result_tree,\" auc-roc:\", best_auc_roc_tree)\n"
   ]
  },
  {
   "cell_type": "code",
   "execution_count": 24,
   "metadata": {},
   "outputs": [
    {
     "name": "stdout",
     "output_type": "stream",
     "text": [
      "Est лучшей модели 299  F1:  0.6027777777777777  auc-roc: 0.8509775040981377\n"
     ]
    }
   ],
   "source": [
    "#обучим модель на основе случайного леса с перебором гиперпараметров, выбираем лучшую модель\n",
    "#для перебора гиперпараметра 'n_estimators' зафиксируем некоторое значение 'depth' максимальной глубины дерева\n",
    "best_auc_roc_forest=0\n",
    "best_result_forest=0\n",
    "\n",
    "for est in range(1,300):\n",
    "    model_forest=RandomForestClassifier(random_state=12345,n_estimators=est,max_depth=13,class_weight='balanced')\n",
    "    model_forest.fit(x_train,y_train)\n",
    "    predicted_valid=model_forest.predict(x_valid)\n",
    "    result_forest = f1_score(y_valid, predicted_valid)\n",
    "    \n",
    "    probabilities_valid = model_forest.predict_proba(x_valid)\n",
    "    probabilities_one_valid = probabilities_valid[:, 1]\n",
    "    auc_roc_forest= roc_auc_score(y_valid,probabilities_one_valid)\n",
    "    \n",
    "if result_forest > best_result_forest:\n",
    "        best_result_forest = result_forest\n",
    "        n_est = est\n",
    "        best_auc_roc_forest=auc_roc_forest\n",
    "\n",
    "print(\"Est лучшей модели\", n_est, \" F1: \", best_result_forest, \" auc-roc:\", best_auc_roc_forest)  \n",
    "       "
   ]
  },
  {
   "cell_type": "markdown",
   "metadata": {},
   "source": [
    "\n",
    "**Вывод: Наилучший результат по метрике F1 c применением балансирущего параметра дала модель RandomForestClassifier с параметрами n_estimators=299,max_depth=13. Метрика F1 = 0.6027777777777777, что выше заданного показателя 0.59. Модель DecisionTreeClassifier с гиперпараметром depth=5 дала значение метрики F1=0.5963791267305644, что также больше заданного критерия - 0.59**\n",
    "\n",
    "Остальные модели показали метрики качества ниже заданного значения. \n"
   ]
  },
  {
   "cell_type": "markdown",
   "metadata": {},
   "source": [
    "### Увеличение числа примеров миноритарного класса в выборке методом upsumpling. Результаты обучения моделей на новой выборке."
   ]
  },
  {
   "cell_type": "code",
   "execution_count": 25,
   "metadata": {},
   "outputs": [
    {
     "name": "stdout",
     "output_type": "stream",
     "text": [
      "Характеристики выборки до увеличение числа объектов положительного класса \n",
      "\n",
      "(6000, 11)\n",
      "(6000,)\n",
      "0    4804\n",
      "1    1196\n",
      "Name: Exited, dtype: int64\n",
      "\n",
      "Характеристики выборки после увеличение числа объектов положительного класса \n",
      "\n",
      "(9588, 11)\n",
      "(9588,)\n",
      "0    4804\n",
      "1    4784\n",
      "Name: Exited, dtype: int64\n"
     ]
    }
   ],
   "source": [
    "#преобразуем обучающую выборку техникой 'upsampling' увеличив в выборке количество объектов редкого класса\n",
    "#для получения сопоставимого количества даных обоих классов увеличим количество строк положительного класса в 4 раза\n",
    "\n",
    "def upsample(features, target, repeat):\n",
    "    x_train_zeros = x_train[y_train == 0]\n",
    "    x_train_ones = x_train[y_train == 1]\n",
    "    y_train_zeros = y_train[y_train == 0]\n",
    "    y_train_ones = y_train[y_train == 1]\n",
    "\n",
    "    x_train_upsampled = pd.concat([x_train_zeros] + [x_train_ones] * repeat)\n",
    "    y_train_upsampled = pd.concat([y_train_zeros] + [y_train_ones] * repeat)\n",
    "    \n",
    "    x_train_upsampled, y_train_upsampled = shuffle(x_train_upsampled, y_train_upsampled, random_state=12345)\n",
    "    \n",
    "    return x_train_upsampled, y_train_upsampled\n",
    "\n",
    "x_train_upsampled, y_train_upsampled = upsample(x_train, y_train, 4)\n",
    "\n",
    "print(\"Характеристики выборки до увеличение числа объектов положительного класса \")\n",
    "print()\n",
    "print(x_train.shape)\n",
    "print(y_train.shape)\n",
    "print(y_train.value_counts())\n",
    "print()\n",
    "print(\"Характеристики выборки после увеличение числа объектов положительного класса \")\n",
    "print()\n",
    "print(x_train_upsampled.shape)\n",
    "print(y_train_upsampled.shape)\n",
    "print(y_train_upsampled.value_counts())"
   ]
  },
  {
   "cell_type": "code",
   "execution_count": 26,
   "metadata": {},
   "outputs": [
    {
     "name": "stdout",
     "output_type": "stream",
     "text": [
      "F1 LR_upsampled: 0.4888507718696398\n"
     ]
    }
   ],
   "source": [
    "# 1.Обучим на новой выборке модель логистической регресии:\n",
    "\n",
    "model_LR__upsampled = LogisticRegression(random_state=12345, solver='liblinear')\n",
    "\n",
    "model_LR__upsampled.fit(x_train_upsampled, y_train_upsampled)\n",
    "predicted_valid__upsampled = model_LR__upsampled.predict(x_valid)\n",
    "\n",
    "print(\"F1 LR_upsampled:\", f1_score(y_valid, predicted_valid__upsampled))"
   ]
  },
  {
   "cell_type": "markdown",
   "metadata": {},
   "source": [
    "Метрика F1 не изменилась при обучении модели логистической регрессии на новой выборке по сравнению с моделью, обученной c балансирующим параметром"
   ]
  },
  {
   "cell_type": "code",
   "execution_count": 27,
   "metadata": {},
   "outputs": [
    {
     "name": "stdout",
     "output_type": "stream",
     "text": [
      "F1 LR'balanced': 0.4888507718696398\n",
      "F1_LR_upsampled: 0.4888507718696398\n"
     ]
    }
   ],
   "source": [
    "print(\"F1 LR'balanced':\", f1_score(y_valid, predicted_valid_LR))\n",
    "print(\"F1_LR_upsampled:\", f1_score(y_valid, predicted_valid__upsampled))"
   ]
  },
  {
   "cell_type": "markdown",
   "metadata": {},
   "source": [
    "## Тестирование модели"
   ]
  },
  {
   "cell_type": "code",
   "execution_count": 28,
   "metadata": {},
   "outputs": [
    {
     "name": "stdout",
     "output_type": "stream",
     "text": [
      " F1:  0.5738161559888579  auc-roc: 0.8584738356186973\n"
     ]
    }
   ],
   "source": [
    "## проверим метрики лучшей модели на тестовой выборке\n",
    "\n",
    "predicted_test_new2=model_forest.predict(x_test)\n",
    "result_forest_new2 = f1_score(y_test, predicted_test_new2)\n",
    "\n",
    "probabilities_test_forest_new2 = model_forest.predict_proba(x_test)\n",
    "probabilities_one_test_forest_new2 = probabilities_test_forest_new2[:, 1]\n",
    "    \n",
    "auc_roc_forest_new2= roc_auc_score (y_test,probabilities_one_test_forest_new2) \n",
    "\n",
    "print(\" F1: \",result_forest_new2,\" auc-roc:\",auc_roc_forest_new2)"
   ]
  },
  {
   "cell_type": "code",
   "execution_count": 29,
   "metadata": {},
   "outputs": [
    {
     "name": "stdout",
     "output_type": "stream",
     "text": [
      " F1:  0.5180995475113123  auc-roc: 0.7047038471167236\n"
     ]
    }
   ],
   "source": [
    "## проверим метрики лучшей модели на тестовой выборке\n",
    "\n",
    "predicted_test_new=model_tree.predict(x_test)\n",
    "result_forest_new = f1_score(y_test, predicted_test_new)\n",
    "\n",
    "probabilities_test_forest_new = model_tree.predict_proba(x_test)\n",
    "probabilities_one_test_forest_new = probabilities_test_forest_new[:, 1]\n",
    "    \n",
    "auc_roc_forest_new= roc_auc_score (y_test,probabilities_one_test_forest_new) \n",
    "\n",
    "print(\" F1: \",result_forest_new,\" auc-roc:\",auc_roc_forest_new)"
   ]
  },
  {
   "cell_type": "markdown",
   "metadata": {},
   "source": [
    "**Вывод: Модель случайного леса (RandomForestClassifier) с гиперпараметрами n_estimators=299,max_depth=13 и модель дерева решений Depth лучшей модели дерева решений 5, которые дали удовлетворительные показатели качества модели при обучении и на валидационной выборке, при тестировании на тестовой выборке дали показатели  F1 метрики, отображающие способность модели прогнозировать отток клиентов Банка,  ниже заданного проектом значения 0,59 (F1:  0.5180995475113123  auc-roc: 0.7047038471167236)** \n",
    "\n"
   ]
  },
  {
   "cell_type": "markdown",
   "metadata": {},
   "source": [
    "## Чек-лист готовности проекта"
   ]
  },
  {
   "cell_type": "markdown",
   "metadata": {},
   "source": [
    "Поставьте 'x' в выполненных пунктах. Далее нажмите Shift+Enter."
   ]
  },
  {
   "cell_type": "markdown",
   "metadata": {},
   "source": [
    "- [x]  Jupyter Notebook открыт\n",
    "- [x ]  Весь код выполняется без ошибок\n",
    "- [x ]  Ячейки с кодом расположены в порядке исполнения\n",
    "- [x ]  Выполнен шаг 1: данные подготовлены\n",
    "- [x ]  Выполнен шаг 2: задача исследована\n",
    "    - [x ]  Исследован баланс классов\n",
    "    - [x ]  Изучены модели без учёта дисбаланса\n",
    "    - [x ]  Написаны выводы по результатам исследования\n",
    "- [x ]  Выполнен шаг 3: учтён дисбаланс\n",
    "    - [x ]  Применено несколько способов борьбы с дисбалансом\n",
    "    - [x ]  Написаны выводы по результатам исследования\n",
    "- [x ]  Выполнен шаг 4: проведено тестирование\n",
    "- [x ]  Удалось достичь *F1*-меры не менее 0.59\n",
    "- [x ]  Исследована метрика *AUC-ROC*"
   ]
  },
  {
   "cell_type": "code",
   "execution_count": null,
   "metadata": {},
   "outputs": [],
   "source": []
  }
 ],
 "metadata": {
  "ExecuteTimeLog": [
   {
    "duration": 1263,
    "start_time": "2022-11-19T22:36:51.813Z"
   },
   {
    "duration": 68,
    "start_time": "2022-11-19T22:37:36.297Z"
   },
   {
    "duration": 6,
    "start_time": "2022-11-19T22:37:57.601Z"
   },
   {
    "duration": 62,
    "start_time": "2022-11-19T22:38:10.921Z"
   },
   {
    "duration": 1909,
    "start_time": "2022-11-20T06:07:21.039Z"
   },
   {
    "duration": 27,
    "start_time": "2022-11-20T06:07:22.950Z"
   },
   {
    "duration": 15,
    "start_time": "2022-11-20T06:07:35.090Z"
   },
   {
    "duration": 113,
    "start_time": "2022-11-20T06:07:56.640Z"
   },
   {
    "duration": 6,
    "start_time": "2022-11-20T06:08:03.708Z"
   },
   {
    "duration": 13,
    "start_time": "2022-11-20T06:20:47.504Z"
   },
   {
    "duration": 8,
    "start_time": "2022-11-20T06:21:04.524Z"
   },
   {
    "duration": 5,
    "start_time": "2022-11-20T06:23:43.525Z"
   },
   {
    "duration": 18,
    "start_time": "2022-11-20T06:31:39.200Z"
   },
   {
    "duration": 23,
    "start_time": "2022-11-20T06:35:36.757Z"
   },
   {
    "duration": 55607,
    "start_time": "2022-11-20T06:36:14.620Z"
   },
   {
    "duration": 20,
    "start_time": "2022-11-20T06:37:26.103Z"
   },
   {
    "duration": 440,
    "start_time": "2022-11-20T06:37:33.895Z"
   },
   {
    "duration": 10,
    "start_time": "2022-11-20T06:37:41.468Z"
   },
   {
    "duration": 3,
    "start_time": "2022-11-20T06:37:55.474Z"
   },
   {
    "duration": 18,
    "start_time": "2022-11-20T06:48:06.938Z"
   },
   {
    "duration": 44,
    "start_time": "2022-11-20T18:58:46.690Z"
   },
   {
    "duration": 1886,
    "start_time": "2022-11-20T18:58:54.302Z"
   },
   {
    "duration": 23,
    "start_time": "2022-11-20T18:58:56.190Z"
   },
   {
    "duration": 14,
    "start_time": "2022-11-20T18:58:56.214Z"
   },
   {
    "duration": 8,
    "start_time": "2022-11-20T18:58:56.230Z"
   },
   {
    "duration": 38,
    "start_time": "2022-11-20T18:58:56.240Z"
   },
   {
    "duration": 0,
    "start_time": "2022-11-20T18:58:56.280Z"
   },
   {
    "duration": 0,
    "start_time": "2022-11-20T18:58:56.281Z"
   },
   {
    "duration": 0,
    "start_time": "2022-11-20T18:58:56.282Z"
   },
   {
    "duration": 0,
    "start_time": "2022-11-20T18:58:56.283Z"
   },
   {
    "duration": 1,
    "start_time": "2022-11-20T18:58:56.284Z"
   },
   {
    "duration": 0,
    "start_time": "2022-11-20T18:58:56.286Z"
   },
   {
    "duration": 0,
    "start_time": "2022-11-20T18:58:56.286Z"
   },
   {
    "duration": 0,
    "start_time": "2022-11-20T18:58:56.288Z"
   },
   {
    "duration": 25,
    "start_time": "2022-11-20T19:02:40.953Z"
   },
   {
    "duration": 4,
    "start_time": "2022-11-20T19:06:44.689Z"
   },
   {
    "duration": 5,
    "start_time": "2022-11-20T19:16:06.889Z"
   },
   {
    "duration": 7,
    "start_time": "2022-11-20T19:16:42.370Z"
   },
   {
    "duration": 4,
    "start_time": "2022-11-20T19:17:36.934Z"
   },
   {
    "duration": 21,
    "start_time": "2022-11-20T19:18:25.526Z"
   },
   {
    "duration": 8,
    "start_time": "2022-11-20T19:18:51.710Z"
   },
   {
    "duration": 41,
    "start_time": "2022-11-20T19:19:16.932Z"
   },
   {
    "duration": 19,
    "start_time": "2022-11-20T19:19:16.975Z"
   },
   {
    "duration": 11,
    "start_time": "2022-11-20T19:19:16.996Z"
   },
   {
    "duration": 9,
    "start_time": "2022-11-20T19:19:25.658Z"
   },
   {
    "duration": 20,
    "start_time": "2022-11-20T19:19:38.702Z"
   },
   {
    "duration": 14,
    "start_time": "2022-11-20T19:21:57.022Z"
   },
   {
    "duration": 108,
    "start_time": "2022-11-20T19:23:54.060Z"
   },
   {
    "duration": 6,
    "start_time": "2022-11-20T19:24:43.988Z"
   },
   {
    "duration": 6,
    "start_time": "2022-11-20T19:25:42.784Z"
   },
   {
    "duration": 9,
    "start_time": "2022-11-20T19:25:54.451Z"
   },
   {
    "duration": 5,
    "start_time": "2022-11-20T19:26:42.617Z"
   },
   {
    "duration": 7,
    "start_time": "2022-11-20T19:26:47.972Z"
   },
   {
    "duration": 3,
    "start_time": "2022-11-20T19:27:09.825Z"
   },
   {
    "duration": 7,
    "start_time": "2022-11-20T19:27:11.121Z"
   },
   {
    "duration": 6,
    "start_time": "2022-11-20T19:27:15.351Z"
   },
   {
    "duration": 4,
    "start_time": "2022-11-20T19:27:59.839Z"
   },
   {
    "duration": 40,
    "start_time": "2022-11-20T19:28:05.774Z"
   },
   {
    "duration": 20,
    "start_time": "2022-11-20T19:28:05.815Z"
   },
   {
    "duration": 10,
    "start_time": "2022-11-20T19:28:05.836Z"
   },
   {
    "duration": 7,
    "start_time": "2022-11-20T19:28:05.848Z"
   },
   {
    "duration": 4,
    "start_time": "2022-11-20T19:28:16.381Z"
   },
   {
    "duration": 4,
    "start_time": "2022-11-20T19:28:23.239Z"
   },
   {
    "duration": 7,
    "start_time": "2022-11-20T19:28:23.976Z"
   },
   {
    "duration": 41,
    "start_time": "2022-11-20T19:29:19.160Z"
   },
   {
    "duration": 21,
    "start_time": "2022-11-20T19:29:19.203Z"
   },
   {
    "duration": 12,
    "start_time": "2022-11-20T19:29:19.226Z"
   },
   {
    "duration": 7,
    "start_time": "2022-11-20T19:29:25.434Z"
   },
   {
    "duration": 3,
    "start_time": "2022-11-20T19:29:28.658Z"
   },
   {
    "duration": 4,
    "start_time": "2022-11-20T19:29:31.918Z"
   },
   {
    "duration": 6,
    "start_time": "2022-11-20T19:29:34.197Z"
   },
   {
    "duration": 19,
    "start_time": "2022-11-20T19:29:47.239Z"
   },
   {
    "duration": 3,
    "start_time": "2022-11-20T19:38:37.024Z"
   },
   {
    "duration": 5,
    "start_time": "2022-11-20T19:38:44.966Z"
   },
   {
    "duration": 4,
    "start_time": "2022-11-20T19:40:07.102Z"
   },
   {
    "duration": 5,
    "start_time": "2022-11-20T19:45:16.181Z"
   },
   {
    "duration": 6,
    "start_time": "2022-11-20T19:46:20.038Z"
   },
   {
    "duration": 7,
    "start_time": "2022-11-20T19:46:23.293Z"
   },
   {
    "duration": 12,
    "start_time": "2022-11-20T19:46:43.738Z"
   },
   {
    "duration": 21,
    "start_time": "2022-11-20T19:49:14.099Z"
   },
   {
    "duration": 5,
    "start_time": "2022-11-20T19:49:46.595Z"
   },
   {
    "duration": 7,
    "start_time": "2022-11-20T19:49:49.707Z"
   },
   {
    "duration": 22,
    "start_time": "2022-11-20T19:49:50.975Z"
   },
   {
    "duration": 20,
    "start_time": "2022-11-20T19:49:55.851Z"
   },
   {
    "duration": 1369,
    "start_time": "2022-11-20T19:50:05.045Z"
   },
   {
    "duration": 23,
    "start_time": "2022-11-20T19:50:06.416Z"
   },
   {
    "duration": 13,
    "start_time": "2022-11-20T19:50:06.440Z"
   },
   {
    "duration": 6,
    "start_time": "2022-11-20T19:50:06.454Z"
   },
   {
    "duration": 4,
    "start_time": "2022-11-20T19:50:06.462Z"
   },
   {
    "duration": 11,
    "start_time": "2022-11-20T19:50:06.467Z"
   },
   {
    "duration": 46,
    "start_time": "2022-11-20T19:50:06.480Z"
   },
   {
    "duration": 17,
    "start_time": "2022-11-20T19:50:06.528Z"
   },
   {
    "duration": 52095,
    "start_time": "2022-11-20T19:50:06.546Z"
   },
   {
    "duration": 18,
    "start_time": "2022-11-20T19:50:58.643Z"
   },
   {
    "duration": 415,
    "start_time": "2022-11-20T19:50:58.662Z"
   },
   {
    "duration": 4,
    "start_time": "2022-11-20T19:50:59.079Z"
   },
   {
    "duration": 7,
    "start_time": "2022-11-20T19:54:10.775Z"
   },
   {
    "duration": 6,
    "start_time": "2022-11-20T19:54:13.022Z"
   },
   {
    "duration": 1372,
    "start_time": "2022-11-20T19:54:44.717Z"
   },
   {
    "duration": 22,
    "start_time": "2022-11-20T19:54:46.091Z"
   },
   {
    "duration": 12,
    "start_time": "2022-11-20T19:54:46.114Z"
   },
   {
    "duration": 7,
    "start_time": "2022-11-20T19:54:46.128Z"
   },
   {
    "duration": 21,
    "start_time": "2022-11-20T19:54:46.136Z"
   },
   {
    "duration": 4,
    "start_time": "2022-11-20T19:54:46.159Z"
   },
   {
    "duration": 49,
    "start_time": "2022-11-20T19:54:46.165Z"
   },
   {
    "duration": 17,
    "start_time": "2022-11-20T19:54:46.216Z"
   },
   {
    "duration": 52835,
    "start_time": "2022-11-20T19:54:46.234Z"
   },
   {
    "duration": 19,
    "start_time": "2022-11-20T19:55:39.072Z"
   },
   {
    "duration": 386,
    "start_time": "2022-11-20T19:55:39.092Z"
   },
   {
    "duration": 3,
    "start_time": "2022-11-20T19:55:39.480Z"
   },
   {
    "duration": 1700,
    "start_time": "2022-11-21T20:28:07.441Z"
   },
   {
    "duration": 25,
    "start_time": "2022-11-21T20:28:09.143Z"
   },
   {
    "duration": 13,
    "start_time": "2022-11-21T20:28:09.169Z"
   },
   {
    "duration": 8,
    "start_time": "2022-11-21T20:28:09.184Z"
   },
   {
    "duration": 65,
    "start_time": "2022-11-21T20:28:09.193Z"
   },
   {
    "duration": 5,
    "start_time": "2022-11-21T20:28:09.259Z"
   },
   {
    "duration": 10,
    "start_time": "2022-11-21T20:28:09.265Z"
   },
   {
    "duration": 20,
    "start_time": "2022-11-21T20:28:09.276Z"
   },
   {
    "duration": 4,
    "start_time": "2022-11-21T20:28:09.297Z"
   },
   {
    "duration": 224,
    "start_time": "2022-11-21T20:28:09.303Z"
   },
   {
    "duration": 72,
    "start_time": "2022-11-21T20:28:09.528Z"
   },
   {
    "duration": 23,
    "start_time": "2022-11-21T20:28:42.593Z"
   },
   {
    "duration": 10,
    "start_time": "2022-11-21T20:29:18.471Z"
   },
   {
    "duration": 10,
    "start_time": "2022-11-21T20:41:51.790Z"
   },
   {
    "duration": 11,
    "start_time": "2022-11-21T20:41:53.695Z"
   },
   {
    "duration": 6,
    "start_time": "2022-11-21T20:42:35.894Z"
   },
   {
    "duration": 14,
    "start_time": "2022-11-21T20:43:24.212Z"
   },
   {
    "duration": 8,
    "start_time": "2022-11-21T20:44:00.426Z"
   },
   {
    "duration": 7,
    "start_time": "2022-11-21T20:44:02.696Z"
   },
   {
    "duration": 12,
    "start_time": "2022-11-21T20:44:12.421Z"
   },
   {
    "duration": 7,
    "start_time": "2022-11-21T20:45:12.068Z"
   },
   {
    "duration": 9,
    "start_time": "2022-11-21T20:45:14.524Z"
   },
   {
    "duration": 11,
    "start_time": "2022-11-21T20:45:23.169Z"
   },
   {
    "duration": 1372,
    "start_time": "2022-11-21T20:47:09.262Z"
   },
   {
    "duration": 23,
    "start_time": "2022-11-21T20:47:10.636Z"
   },
   {
    "duration": 16,
    "start_time": "2022-11-21T20:47:10.660Z"
   },
   {
    "duration": 13,
    "start_time": "2022-11-21T20:47:10.678Z"
   },
   {
    "duration": 31,
    "start_time": "2022-11-21T20:47:10.693Z"
   },
   {
    "duration": 30,
    "start_time": "2022-11-21T20:47:10.726Z"
   },
   {
    "duration": 31,
    "start_time": "2022-11-21T20:47:10.758Z"
   },
   {
    "duration": 29,
    "start_time": "2022-11-21T20:47:10.791Z"
   },
   {
    "duration": 10,
    "start_time": "2022-11-21T20:47:10.822Z"
   },
   {
    "duration": 22,
    "start_time": "2022-11-21T20:47:10.835Z"
   },
   {
    "duration": 18,
    "start_time": "2022-11-21T20:47:10.859Z"
   },
   {
    "duration": 9,
    "start_time": "2022-11-21T20:47:10.878Z"
   },
   {
    "duration": 37,
    "start_time": "2022-11-21T20:47:10.889Z"
   },
   {
    "duration": 66,
    "start_time": "2022-11-21T20:47:10.928Z"
   },
   {
    "duration": 12,
    "start_time": "2022-11-21T20:48:10.542Z"
   },
   {
    "duration": 4,
    "start_time": "2022-11-21T20:53:18.222Z"
   },
   {
    "duration": 10,
    "start_time": "2022-11-21T21:01:15.250Z"
   },
   {
    "duration": 12,
    "start_time": "2022-11-21T21:01:23.271Z"
   },
   {
    "duration": 37,
    "start_time": "2022-11-21T21:03:12.435Z"
   },
   {
    "duration": 24,
    "start_time": "2022-11-21T21:03:38.740Z"
   },
   {
    "duration": 40,
    "start_time": "2022-11-21T21:06:32.827Z"
   },
   {
    "duration": 18,
    "start_time": "2022-11-21T21:06:32.869Z"
   },
   {
    "duration": 12,
    "start_time": "2022-11-21T21:06:32.889Z"
   },
   {
    "duration": 4,
    "start_time": "2022-11-21T21:06:32.902Z"
   },
   {
    "duration": 10,
    "start_time": "2022-11-21T21:06:32.908Z"
   },
   {
    "duration": 47,
    "start_time": "2022-11-21T21:06:32.919Z"
   },
   {
    "duration": 4,
    "start_time": "2022-11-21T21:06:32.968Z"
   },
   {
    "duration": 11,
    "start_time": "2022-11-21T21:06:32.974Z"
   },
   {
    "duration": 18,
    "start_time": "2022-11-21T21:06:32.986Z"
   },
   {
    "duration": 4,
    "start_time": "2022-11-21T21:06:33.005Z"
   },
   {
    "duration": 48,
    "start_time": "2022-11-21T21:06:33.010Z"
   },
   {
    "duration": 11,
    "start_time": "2022-11-21T21:06:33.060Z"
   },
   {
    "duration": 12,
    "start_time": "2022-11-21T21:06:33.072Z"
   },
   {
    "duration": 108,
    "start_time": "2022-11-21T21:06:41.045Z"
   },
   {
    "duration": 9,
    "start_time": "2022-11-21T21:07:17.703Z"
   },
   {
    "duration": 9,
    "start_time": "2022-11-21T21:07:51.853Z"
   },
   {
    "duration": 1464,
    "start_time": "2022-11-21T21:08:04.612Z"
   },
   {
    "duration": 26,
    "start_time": "2022-11-21T21:08:06.078Z"
   },
   {
    "duration": 14,
    "start_time": "2022-11-21T21:08:06.106Z"
   },
   {
    "duration": 3,
    "start_time": "2022-11-21T21:08:06.122Z"
   },
   {
    "duration": 8,
    "start_time": "2022-11-21T21:08:06.127Z"
   },
   {
    "duration": 24,
    "start_time": "2022-11-21T21:08:06.153Z"
   },
   {
    "duration": 6,
    "start_time": "2022-11-21T21:08:06.179Z"
   },
   {
    "duration": 7,
    "start_time": "2022-11-21T21:08:06.187Z"
   },
   {
    "duration": 70,
    "start_time": "2022-11-21T21:08:06.196Z"
   },
   {
    "duration": 4,
    "start_time": "2022-11-21T21:08:06.269Z"
   },
   {
    "duration": 24,
    "start_time": "2022-11-21T21:08:06.275Z"
   },
   {
    "duration": 11,
    "start_time": "2022-11-21T21:08:06.300Z"
   },
   {
    "duration": 16,
    "start_time": "2022-11-21T21:08:06.313Z"
   },
   {
    "duration": 38,
    "start_time": "2022-11-21T21:08:06.330Z"
   },
   {
    "duration": 3,
    "start_time": "2022-11-21T21:08:06.370Z"
   },
   {
    "duration": 30,
    "start_time": "2022-11-21T21:09:23.054Z"
   },
   {
    "duration": 25,
    "start_time": "2022-11-21T21:10:04.722Z"
   },
   {
    "duration": 1368,
    "start_time": "2022-11-21T21:10:12.384Z"
   },
   {
    "duration": 24,
    "start_time": "2022-11-21T21:10:13.754Z"
   },
   {
    "duration": 13,
    "start_time": "2022-11-21T21:10:13.779Z"
   },
   {
    "duration": 13,
    "start_time": "2022-11-21T21:10:13.793Z"
   },
   {
    "duration": 27,
    "start_time": "2022-11-21T21:10:13.808Z"
   },
   {
    "duration": 27,
    "start_time": "2022-11-21T21:10:13.837Z"
   },
   {
    "duration": 12,
    "start_time": "2022-11-21T21:10:13.865Z"
   },
   {
    "duration": 32,
    "start_time": "2022-11-21T21:10:13.878Z"
   },
   {
    "duration": 27,
    "start_time": "2022-11-21T21:10:13.912Z"
   },
   {
    "duration": 4,
    "start_time": "2022-11-21T21:10:13.940Z"
   },
   {
    "duration": 31,
    "start_time": "2022-11-21T21:10:13.945Z"
   },
   {
    "duration": 31,
    "start_time": "2022-11-21T21:10:13.977Z"
   },
   {
    "duration": 25,
    "start_time": "2022-11-21T21:10:14.009Z"
   },
   {
    "duration": 37,
    "start_time": "2022-11-21T21:10:14.036Z"
   },
   {
    "duration": 3,
    "start_time": "2022-11-21T21:10:14.074Z"
   },
   {
    "duration": 1419,
    "start_time": "2022-11-21T21:42:18.130Z"
   },
   {
    "duration": 22,
    "start_time": "2022-11-21T21:42:19.551Z"
   },
   {
    "duration": 12,
    "start_time": "2022-11-21T21:42:19.575Z"
   },
   {
    "duration": 3,
    "start_time": "2022-11-21T21:42:19.589Z"
   },
   {
    "duration": 13,
    "start_time": "2022-11-21T21:42:19.593Z"
   },
   {
    "duration": 48,
    "start_time": "2022-11-21T21:42:19.607Z"
   },
   {
    "duration": 6,
    "start_time": "2022-11-21T21:42:19.657Z"
   },
   {
    "duration": 11,
    "start_time": "2022-11-21T21:42:19.664Z"
   },
   {
    "duration": 16,
    "start_time": "2022-11-21T21:42:19.677Z"
   },
   {
    "duration": 5,
    "start_time": "2022-11-21T21:42:19.695Z"
   },
   {
    "duration": 12,
    "start_time": "2022-11-21T21:42:19.701Z"
   },
   {
    "duration": 38,
    "start_time": "2022-11-21T21:42:19.714Z"
   },
   {
    "duration": 11,
    "start_time": "2022-11-21T21:42:19.754Z"
   },
   {
    "duration": 28,
    "start_time": "2022-11-21T21:42:19.766Z"
   },
   {
    "duration": 117,
    "start_time": "2022-11-21T21:42:19.796Z"
   },
   {
    "duration": 0,
    "start_time": "2022-11-21T21:42:19.914Z"
   },
   {
    "duration": 1125,
    "start_time": "2022-11-21T21:46:44.130Z"
   },
   {
    "duration": 1113,
    "start_time": "2022-11-21T21:47:03.490Z"
   },
   {
    "duration": 8,
    "start_time": "2022-11-21T21:50:11.192Z"
   },
   {
    "duration": 1131,
    "start_time": "2022-11-21T21:50:40.526Z"
   },
   {
    "duration": 10,
    "start_time": "2022-11-21T21:51:31.199Z"
   },
   {
    "duration": 11,
    "start_time": "2022-11-21T21:51:50.377Z"
   },
   {
    "duration": 11,
    "start_time": "2022-11-21T21:51:58.088Z"
   },
   {
    "duration": 11,
    "start_time": "2022-11-21T21:52:17.763Z"
   },
   {
    "duration": 2326,
    "start_time": "2022-11-22T19:16:48.822Z"
   },
   {
    "duration": 26,
    "start_time": "2022-11-22T19:16:51.150Z"
   },
   {
    "duration": 14,
    "start_time": "2022-11-22T19:16:51.178Z"
   },
   {
    "duration": 3,
    "start_time": "2022-11-22T19:16:51.194Z"
   },
   {
    "duration": 11,
    "start_time": "2022-11-22T19:16:51.199Z"
   },
   {
    "duration": 22,
    "start_time": "2022-11-22T19:16:51.211Z"
   },
   {
    "duration": 5,
    "start_time": "2022-11-22T19:16:51.235Z"
   },
   {
    "duration": 55,
    "start_time": "2022-11-22T19:16:51.242Z"
   },
   {
    "duration": 20,
    "start_time": "2022-11-22T19:16:51.299Z"
   },
   {
    "duration": 5,
    "start_time": "2022-11-22T19:16:51.321Z"
   },
   {
    "duration": 17,
    "start_time": "2022-11-22T19:16:51.327Z"
   },
   {
    "duration": 12,
    "start_time": "2022-11-22T19:16:51.346Z"
   },
   {
    "duration": 44,
    "start_time": "2022-11-22T19:16:51.360Z"
   },
   {
    "duration": 26,
    "start_time": "2022-11-22T19:16:51.406Z"
   },
   {
    "duration": 12,
    "start_time": "2022-11-22T19:16:51.433Z"
   },
   {
    "duration": 3,
    "start_time": "2022-11-22T19:16:51.446Z"
   },
   {
    "duration": 18,
    "start_time": "2022-11-22T19:16:51.450Z"
   },
   {
    "duration": 10,
    "start_time": "2022-11-22T19:18:23.017Z"
   },
   {
    "duration": 4,
    "start_time": "2022-11-22T19:18:29.329Z"
   },
   {
    "duration": 71,
    "start_time": "2022-11-22T19:39:43.926Z"
   },
   {
    "duration": 27,
    "start_time": "2022-11-22T19:41:09.872Z"
   },
   {
    "duration": 145,
    "start_time": "2022-11-22T19:49:46.302Z"
   },
   {
    "duration": 11,
    "start_time": "2022-11-22T19:57:06.534Z"
   },
   {
    "duration": 1448,
    "start_time": "2022-11-22T19:57:25.293Z"
   },
   {
    "duration": 23,
    "start_time": "2022-11-22T19:57:26.743Z"
   },
   {
    "duration": 13,
    "start_time": "2022-11-22T19:57:26.769Z"
   },
   {
    "duration": 3,
    "start_time": "2022-11-22T19:57:26.784Z"
   },
   {
    "duration": 13,
    "start_time": "2022-11-22T19:57:26.788Z"
   },
   {
    "duration": 22,
    "start_time": "2022-11-22T19:57:26.802Z"
   },
   {
    "duration": 5,
    "start_time": "2022-11-22T19:57:26.825Z"
   },
   {
    "duration": 12,
    "start_time": "2022-11-22T19:57:26.832Z"
   },
   {
    "duration": 21,
    "start_time": "2022-11-22T19:57:26.846Z"
   },
   {
    "duration": 4,
    "start_time": "2022-11-22T19:57:26.896Z"
   },
   {
    "duration": 15,
    "start_time": "2022-11-22T19:57:26.902Z"
   },
   {
    "duration": 12,
    "start_time": "2022-11-22T19:57:26.919Z"
   },
   {
    "duration": 11,
    "start_time": "2022-11-22T19:57:26.933Z"
   },
   {
    "duration": 23,
    "start_time": "2022-11-22T19:57:26.946Z"
   },
   {
    "duration": 38,
    "start_time": "2022-11-22T19:57:26.971Z"
   },
   {
    "duration": 3,
    "start_time": "2022-11-22T19:57:27.011Z"
   },
   {
    "duration": 21,
    "start_time": "2022-11-22T19:57:27.016Z"
   },
   {
    "duration": 60,
    "start_time": "2022-11-22T19:57:27.039Z"
   },
   {
    "duration": 279,
    "start_time": "2022-11-22T19:57:27.101Z"
   },
   {
    "duration": 23,
    "start_time": "2022-11-22T19:57:27.382Z"
   },
   {
    "duration": 4,
    "start_time": "2022-11-22T19:57:27.407Z"
   },
   {
    "duration": 1500,
    "start_time": "2022-11-22T19:58:05.064Z"
   },
   {
    "duration": 3053,
    "start_time": "2022-11-22T19:58:19.360Z"
   },
   {
    "duration": 2949,
    "start_time": "2022-11-22T19:58:38.873Z"
   },
   {
    "duration": 2918,
    "start_time": "2022-11-22T19:58:48.800Z"
   },
   {
    "duration": 15957,
    "start_time": "2022-11-22T20:07:25.760Z"
   },
   {
    "duration": 2918,
    "start_time": "2022-11-22T20:24:28.140Z"
   },
   {
    "duration": 2833,
    "start_time": "2022-11-22T20:24:42.489Z"
   },
   {
    "duration": 3074,
    "start_time": "2022-11-22T20:24:51.849Z"
   },
   {
    "duration": 126,
    "start_time": "2022-11-22T20:25:02.243Z"
   },
   {
    "duration": 3050,
    "start_time": "2022-11-22T20:25:16.931Z"
   },
   {
    "duration": 2936,
    "start_time": "2022-11-22T20:28:20.353Z"
   },
   {
    "duration": 2195,
    "start_time": "2022-11-22T20:47:05.035Z"
   },
   {
    "duration": 2181,
    "start_time": "2022-11-22T20:47:21.031Z"
   },
   {
    "duration": 2191,
    "start_time": "2022-11-22T20:47:25.170Z"
   },
   {
    "duration": 1241,
    "start_time": "2022-11-22T20:48:04.214Z"
   },
   {
    "duration": 957,
    "start_time": "2022-11-22T20:48:12.061Z"
   },
   {
    "duration": 2516,
    "start_time": "2022-11-22T20:48:19.929Z"
   },
   {
    "duration": 22588,
    "start_time": "2022-11-22T20:48:37.453Z"
   },
   {
    "duration": 572124,
    "start_time": "2022-11-22T20:49:10.922Z"
   },
   {
    "duration": 71720,
    "start_time": "2022-11-22T21:11:14.426Z"
   },
   {
    "duration": 60182,
    "start_time": "2022-11-22T21:12:52.618Z"
   },
   {
    "duration": 6712,
    "start_time": "2022-11-22T21:14:21.522Z"
   },
   {
    "duration": 2348,
    "start_time": "2022-11-22T21:14:37.149Z"
   },
   {
    "duration": 557,
    "start_time": "2022-11-22T21:14:50.458Z"
   },
   {
    "duration": 289,
    "start_time": "2022-11-22T21:14:58.113Z"
   },
   {
    "duration": 79,
    "start_time": "2022-11-22T21:15:09.065Z"
   },
   {
    "duration": 1577,
    "start_time": "2022-11-22T21:15:23.538Z"
   },
   {
    "duration": 34,
    "start_time": "2022-11-22T21:15:25.117Z"
   },
   {
    "duration": 16,
    "start_time": "2022-11-22T21:15:25.156Z"
   },
   {
    "duration": 24,
    "start_time": "2022-11-22T21:15:25.174Z"
   },
   {
    "duration": 37,
    "start_time": "2022-11-22T21:15:25.200Z"
   },
   {
    "duration": 27,
    "start_time": "2022-11-22T21:15:25.240Z"
   },
   {
    "duration": 29,
    "start_time": "2022-11-22T21:15:25.269Z"
   },
   {
    "duration": 13,
    "start_time": "2022-11-22T21:15:25.300Z"
   },
   {
    "duration": 26,
    "start_time": "2022-11-22T21:15:25.317Z"
   },
   {
    "duration": 4,
    "start_time": "2022-11-22T21:15:25.345Z"
   },
   {
    "duration": 18,
    "start_time": "2022-11-22T21:15:25.351Z"
   },
   {
    "duration": 52,
    "start_time": "2022-11-22T21:15:25.371Z"
   },
   {
    "duration": 14,
    "start_time": "2022-11-22T21:15:25.425Z"
   },
   {
    "duration": 31,
    "start_time": "2022-11-22T21:15:25.441Z"
   },
   {
    "duration": 26,
    "start_time": "2022-11-22T21:15:25.475Z"
   },
   {
    "duration": 20,
    "start_time": "2022-11-22T21:15:25.502Z"
   },
   {
    "duration": 73,
    "start_time": "2022-11-22T21:15:25.524Z"
   },
   {
    "duration": 3338,
    "start_time": "2022-11-22T21:15:25.600Z"
   },
   {
    "duration": 85,
    "start_time": "2022-11-22T21:15:28.940Z"
   },
   {
    "duration": 27,
    "start_time": "2022-11-22T21:15:29.027Z"
   },
   {
    "duration": 3296,
    "start_time": "2022-11-22T21:15:29.097Z"
   },
   {
    "duration": 4,
    "start_time": "2022-11-22T21:15:32.397Z"
   },
   {
    "duration": 5,
    "start_time": "2022-11-22T21:18:13.983Z"
   },
   {
    "duration": 6,
    "start_time": "2022-11-22T21:18:16.836Z"
   },
   {
    "duration": 19879,
    "start_time": "2022-11-22T21:18:33.647Z"
   },
   {
    "duration": 26156,
    "start_time": "2022-11-22T21:19:08.743Z"
   },
   {
    "duration": 8238,
    "start_time": "2022-11-22T21:19:49.745Z"
   },
   {
    "duration": 8634,
    "start_time": "2022-11-22T21:20:05.925Z"
   },
   {
    "duration": 2866,
    "start_time": "2022-11-22T21:20:30.028Z"
   },
   {
    "duration": 1708,
    "start_time": "2022-11-22T21:20:44.967Z"
   },
   {
    "duration": 27,
    "start_time": "2022-11-22T21:20:46.677Z"
   },
   {
    "duration": 16,
    "start_time": "2022-11-22T21:20:46.706Z"
   },
   {
    "duration": 4,
    "start_time": "2022-11-22T21:20:46.725Z"
   },
   {
    "duration": 12,
    "start_time": "2022-11-22T21:20:46.730Z"
   },
   {
    "duration": 67,
    "start_time": "2022-11-22T21:20:46.743Z"
   },
   {
    "duration": 6,
    "start_time": "2022-11-22T21:20:46.812Z"
   },
   {
    "duration": 13,
    "start_time": "2022-11-22T21:20:46.820Z"
   },
   {
    "duration": 22,
    "start_time": "2022-11-22T21:20:46.835Z"
   },
   {
    "duration": 6,
    "start_time": "2022-11-22T21:20:46.896Z"
   },
   {
    "duration": 19,
    "start_time": "2022-11-22T21:20:46.903Z"
   },
   {
    "duration": 17,
    "start_time": "2022-11-22T21:20:46.924Z"
   },
   {
    "duration": 18,
    "start_time": "2022-11-22T21:20:46.943Z"
   },
   {
    "duration": 56,
    "start_time": "2022-11-22T21:20:46.964Z"
   },
   {
    "duration": 18,
    "start_time": "2022-11-22T21:20:47.023Z"
   },
   {
    "duration": 4,
    "start_time": "2022-11-22T21:20:47.044Z"
   },
   {
    "duration": 153,
    "start_time": "2022-11-22T21:20:47.050Z"
   },
   {
    "duration": 3155,
    "start_time": "2022-11-22T21:20:47.205Z"
   },
   {
    "duration": 2754,
    "start_time": "2022-11-22T21:20:50.362Z"
   },
   {
    "duration": 94,
    "start_time": "2022-11-22T21:20:53.118Z"
   },
   {
    "duration": 3134,
    "start_time": "2022-11-22T21:20:53.295Z"
   },
   {
    "duration": 4,
    "start_time": "2022-11-22T21:20:56.431Z"
   },
   {
    "duration": 7731,
    "start_time": "2022-11-22T21:21:32.279Z"
   },
   {
    "duration": 1235,
    "start_time": "2022-11-22T21:21:48.869Z"
   },
   {
    "duration": 1273,
    "start_time": "2022-11-22T21:21:59.964Z"
   },
   {
    "duration": 1577,
    "start_time": "2022-11-22T21:22:15.992Z"
   },
   {
    "duration": 29,
    "start_time": "2022-11-22T21:22:17.571Z"
   },
   {
    "duration": 19,
    "start_time": "2022-11-22T21:22:17.602Z"
   },
   {
    "duration": 5,
    "start_time": "2022-11-22T21:22:17.623Z"
   },
   {
    "duration": 12,
    "start_time": "2022-11-22T21:22:17.631Z"
   },
   {
    "duration": 67,
    "start_time": "2022-11-22T21:22:17.645Z"
   },
   {
    "duration": 8,
    "start_time": "2022-11-22T21:22:17.714Z"
   },
   {
    "duration": 8,
    "start_time": "2022-11-22T21:22:17.724Z"
   },
   {
    "duration": 22,
    "start_time": "2022-11-22T21:22:17.734Z"
   },
   {
    "duration": 5,
    "start_time": "2022-11-22T21:22:17.797Z"
   },
   {
    "duration": 16,
    "start_time": "2022-11-22T21:22:17.804Z"
   },
   {
    "duration": 16,
    "start_time": "2022-11-22T21:22:17.822Z"
   },
   {
    "duration": 16,
    "start_time": "2022-11-22T21:22:17.840Z"
   },
   {
    "duration": 70,
    "start_time": "2022-11-22T21:22:17.859Z"
   },
   {
    "duration": 21,
    "start_time": "2022-11-22T21:22:17.931Z"
   },
   {
    "duration": 11,
    "start_time": "2022-11-22T21:22:17.954Z"
   },
   {
    "duration": 55,
    "start_time": "2022-11-22T21:22:17.967Z"
   },
   {
    "duration": 3193,
    "start_time": "2022-11-22T21:22:18.025Z"
   },
   {
    "duration": 1223,
    "start_time": "2022-11-22T21:22:21.220Z"
   },
   {
    "duration": 58,
    "start_time": "2022-11-22T21:22:22.445Z"
   },
   {
    "duration": 3128,
    "start_time": "2022-11-22T21:22:22.505Z"
   },
   {
    "duration": 3,
    "start_time": "2022-11-22T21:22:25.635Z"
   },
   {
    "duration": 1252,
    "start_time": "2022-11-22T21:22:44.429Z"
   },
   {
    "duration": 122,
    "start_time": "2022-11-22T21:33:28.721Z"
   },
   {
    "duration": 12,
    "start_time": "2022-11-22T21:33:59.496Z"
   },
   {
    "duration": 13,
    "start_time": "2022-11-22T21:36:53.798Z"
   },
   {
    "duration": 1557,
    "start_time": "2022-11-22T21:37:03.625Z"
   },
   {
    "duration": 37,
    "start_time": "2022-11-22T21:37:05.185Z"
   },
   {
    "duration": 21,
    "start_time": "2022-11-22T21:37:05.224Z"
   },
   {
    "duration": 6,
    "start_time": "2022-11-22T21:37:05.247Z"
   },
   {
    "duration": 22,
    "start_time": "2022-11-22T21:37:05.254Z"
   },
   {
    "duration": 43,
    "start_time": "2022-11-22T21:37:05.278Z"
   },
   {
    "duration": 6,
    "start_time": "2022-11-22T21:37:05.323Z"
   },
   {
    "duration": 32,
    "start_time": "2022-11-22T21:37:05.331Z"
   },
   {
    "duration": 47,
    "start_time": "2022-11-22T21:37:05.365Z"
   },
   {
    "duration": 5,
    "start_time": "2022-11-22T21:37:05.415Z"
   },
   {
    "duration": 35,
    "start_time": "2022-11-22T21:37:05.422Z"
   },
   {
    "duration": 32,
    "start_time": "2022-11-22T21:37:05.460Z"
   },
   {
    "duration": 23,
    "start_time": "2022-11-22T21:37:05.494Z"
   },
   {
    "duration": 36,
    "start_time": "2022-11-22T21:37:05.519Z"
   },
   {
    "duration": 17,
    "start_time": "2022-11-22T21:37:05.557Z"
   },
   {
    "duration": 21,
    "start_time": "2022-11-22T21:37:05.575Z"
   },
   {
    "duration": 43,
    "start_time": "2022-11-22T21:37:05.599Z"
   },
   {
    "duration": 3293,
    "start_time": "2022-11-22T21:37:05.643Z"
   },
   {
    "duration": 1294,
    "start_time": "2022-11-22T21:37:08.939Z"
   },
   {
    "duration": 281722,
    "start_time": "2022-11-22T21:37:10.234Z"
   },
   {
    "duration": 40,
    "start_time": "2022-11-22T21:41:51.959Z"
   },
   {
    "duration": 3189,
    "start_time": "2022-11-22T21:41:52.004Z"
   },
   {
    "duration": 4,
    "start_time": "2022-11-22T21:41:55.195Z"
   },
   {
    "duration": 269856,
    "start_time": "2022-11-22T21:42:52.495Z"
   },
   {
    "duration": 293,
    "start_time": "2022-11-22T21:52:27.342Z"
   },
   {
    "duration": 307,
    "start_time": "2022-11-22T21:52:42.625Z"
   },
   {
    "duration": 1408,
    "start_time": "2022-11-22T21:55:18.986Z"
   },
   {
    "duration": 1443,
    "start_time": "2022-11-22T21:56:00.694Z"
   },
   {
    "duration": 122,
    "start_time": "2022-11-22T21:56:40.515Z"
   },
   {
    "duration": 3160,
    "start_time": "2022-11-22T21:57:04.989Z"
   },
   {
    "duration": 1413,
    "start_time": "2022-11-22T21:57:21.690Z"
   },
   {
    "duration": 1278,
    "start_time": "2022-11-22T21:57:36.036Z"
   },
   {
    "duration": 1317,
    "start_time": "2022-11-22T21:58:15.797Z"
   },
   {
    "duration": 1128,
    "start_time": "2022-11-22T21:58:23.406Z"
   },
   {
    "duration": 1111,
    "start_time": "2022-11-22T22:01:51.111Z"
   },
   {
    "duration": 11,
    "start_time": "2022-11-22T22:02:48.541Z"
   },
   {
    "duration": 12,
    "start_time": "2022-11-22T22:03:15.832Z"
   },
   {
    "duration": 1947,
    "start_time": "2022-11-22T22:03:49.820Z"
   },
   {
    "duration": 4585,
    "start_time": "2022-11-22T22:04:55.308Z"
   },
   {
    "duration": 2542,
    "start_time": "2022-11-22T22:05:12.054Z"
   },
   {
    "duration": 1107,
    "start_time": "2022-11-22T22:05:20.834Z"
   },
   {
    "duration": 2127,
    "start_time": "2022-11-22T22:05:29.672Z"
   },
   {
    "duration": 2050,
    "start_time": "2022-11-22T22:05:39.196Z"
   },
   {
    "duration": 133,
    "start_time": "2022-11-22T22:07:24.272Z"
   },
   {
    "duration": 1131,
    "start_time": "2022-11-22T22:07:51.574Z"
   },
   {
    "duration": 5499,
    "start_time": "2022-11-22T22:08:07.647Z"
   },
   {
    "duration": 12521,
    "start_time": "2022-11-22T22:08:22.633Z"
   },
   {
    "duration": 33723,
    "start_time": "2022-11-22T22:08:46.656Z"
   },
   {
    "duration": 12427,
    "start_time": "2022-11-22T22:09:28.998Z"
   },
   {
    "duration": 12378,
    "start_time": "2022-11-22T22:09:48.958Z"
   },
   {
    "duration": 11973,
    "start_time": "2022-11-22T22:10:11.380Z"
   },
   {
    "duration": 1648,
    "start_time": "2022-11-23T21:03:51.690Z"
   },
   {
    "duration": 25,
    "start_time": "2022-11-23T21:03:53.340Z"
   },
   {
    "duration": 16,
    "start_time": "2022-11-23T21:03:53.367Z"
   },
   {
    "duration": 4,
    "start_time": "2022-11-23T21:03:53.385Z"
   },
   {
    "duration": 9,
    "start_time": "2022-11-23T21:03:53.391Z"
   },
   {
    "duration": 23,
    "start_time": "2022-11-23T21:03:53.411Z"
   },
   {
    "duration": 5,
    "start_time": "2022-11-23T21:03:53.435Z"
   },
   {
    "duration": 13,
    "start_time": "2022-11-23T21:03:53.441Z"
   },
   {
    "duration": 19,
    "start_time": "2022-11-23T21:03:53.456Z"
   },
   {
    "duration": 39,
    "start_time": "2022-11-23T21:03:53.477Z"
   },
   {
    "duration": 15,
    "start_time": "2022-11-23T21:03:53.517Z"
   },
   {
    "duration": 14,
    "start_time": "2022-11-23T21:03:53.534Z"
   },
   {
    "duration": 11,
    "start_time": "2022-11-23T21:03:53.550Z"
   },
   {
    "duration": 26,
    "start_time": "2022-11-23T21:03:53.562Z"
   },
   {
    "duration": 13,
    "start_time": "2022-11-23T21:03:53.613Z"
   },
   {
    "duration": 4,
    "start_time": "2022-11-23T21:03:53.628Z"
   },
   {
    "duration": 81,
    "start_time": "2022-11-23T21:03:53.633Z"
   },
   {
    "duration": 386,
    "start_time": "2022-11-23T21:03:53.715Z"
   },
   {
    "duration": 1073,
    "start_time": "2022-11-23T21:03:54.103Z"
   },
   {
    "duration": 247882,
    "start_time": "2022-11-23T21:03:55.178Z"
   },
   {
    "duration": 1830,
    "start_time": "2022-11-23T21:08:03.063Z"
   },
   {
    "duration": 129,
    "start_time": "2022-11-23T21:08:04.895Z"
   },
   {
    "duration": 24,
    "start_time": "2022-11-23T21:08:05.025Z"
   },
   {
    "duration": 390,
    "start_time": "2022-11-23T21:08:05.115Z"
   },
   {
    "duration": 125,
    "start_time": "2022-11-23T21:08:05.506Z"
   },
   {
    "duration": 11262,
    "start_time": "2022-11-23T21:08:05.633Z"
   },
   {
    "duration": 152,
    "start_time": "2022-11-23T21:08:16.897Z"
   },
   {
    "duration": 0,
    "start_time": "2022-11-23T21:08:17.051Z"
   },
   {
    "duration": 23,
    "start_time": "2022-11-23T21:09:29.581Z"
   },
   {
    "duration": 17,
    "start_time": "2022-11-23T21:10:04.257Z"
   },
   {
    "duration": 15,
    "start_time": "2022-11-23T21:10:52.918Z"
   },
   {
    "duration": 15,
    "start_time": "2022-11-23T21:10:59.630Z"
   },
   {
    "duration": 15,
    "start_time": "2022-11-23T21:11:07.433Z"
   },
   {
    "duration": 16,
    "start_time": "2022-11-23T21:13:03.080Z"
   },
   {
    "duration": 28,
    "start_time": "2022-11-23T21:14:24.320Z"
   },
   {
    "duration": 37,
    "start_time": "2022-11-23T21:15:16.511Z"
   },
   {
    "duration": 41,
    "start_time": "2022-11-23T21:15:34.472Z"
   },
   {
    "duration": 28,
    "start_time": "2022-11-23T21:18:10.375Z"
   },
   {
    "duration": 8,
    "start_time": "2022-11-23T21:20:00.061Z"
   },
   {
    "duration": 20,
    "start_time": "2022-11-23T21:23:27.035Z"
   },
   {
    "duration": 343,
    "start_time": "2022-11-23T21:23:43.235Z"
   },
   {
    "duration": 338,
    "start_time": "2022-11-23T21:23:58.716Z"
   },
   {
    "duration": 3497,
    "start_time": "2022-11-23T21:24:12.472Z"
   },
   {
    "duration": 5,
    "start_time": "2022-11-23T21:24:44.196Z"
   },
   {
    "duration": 5,
    "start_time": "2022-11-23T21:24:56.853Z"
   },
   {
    "duration": 186,
    "start_time": "2022-11-23T21:25:12.303Z"
   },
   {
    "duration": 190,
    "start_time": "2022-11-23T21:27:57.905Z"
   },
   {
    "duration": 149,
    "start_time": "2022-11-23T21:28:35.057Z"
   },
   {
    "duration": 165,
    "start_time": "2022-11-23T21:28:57.449Z"
   },
   {
    "duration": 185,
    "start_time": "2022-11-23T21:29:03.971Z"
   },
   {
    "duration": 169,
    "start_time": "2022-11-23T21:29:12.111Z"
   },
   {
    "duration": 149,
    "start_time": "2022-11-23T21:29:19.425Z"
   },
   {
    "duration": 160,
    "start_time": "2022-11-23T21:29:26.762Z"
   },
   {
    "duration": 150,
    "start_time": "2022-11-23T21:29:33.015Z"
   },
   {
    "duration": 157,
    "start_time": "2022-11-23T21:29:40.350Z"
   },
   {
    "duration": 152,
    "start_time": "2022-11-23T21:29:46.186Z"
   },
   {
    "duration": 120,
    "start_time": "2022-11-23T21:30:28.476Z"
   },
   {
    "duration": 115,
    "start_time": "2022-11-23T21:30:35.496Z"
   },
   {
    "duration": 120,
    "start_time": "2022-11-23T21:30:43.208Z"
   },
   {
    "duration": 121,
    "start_time": "2022-11-23T21:30:49.624Z"
   },
   {
    "duration": 118,
    "start_time": "2022-11-23T21:30:55.280Z"
   },
   {
    "duration": 203,
    "start_time": "2022-11-23T21:31:04.980Z"
   },
   {
    "duration": 192,
    "start_time": "2022-11-23T21:31:12.390Z"
   },
   {
    "duration": 188,
    "start_time": "2022-11-23T21:31:19.584Z"
   },
   {
    "duration": 117,
    "start_time": "2022-11-23T21:31:31.104Z"
   },
   {
    "duration": 119,
    "start_time": "2022-11-23T21:31:36.188Z"
   },
   {
    "duration": 355,
    "start_time": "2022-11-23T21:32:30.371Z"
   },
   {
    "duration": 1518,
    "start_time": "2022-11-23T21:32:39.816Z"
   },
   {
    "duration": 5094,
    "start_time": "2022-11-23T21:32:46.157Z"
   },
   {
    "duration": 372,
    "start_time": "2022-11-23T21:32:58.358Z"
   },
   {
    "duration": 159,
    "start_time": "2022-11-23T21:33:05.305Z"
   },
   {
    "duration": 195,
    "start_time": "2022-11-23T21:33:10.612Z"
   },
   {
    "duration": 211,
    "start_time": "2022-11-23T21:33:17.739Z"
   },
   {
    "duration": 183,
    "start_time": "2022-11-23T21:33:23.638Z"
   },
   {
    "duration": 498,
    "start_time": "2022-11-23T21:33:29.790Z"
   },
   {
    "duration": 427,
    "start_time": "2022-11-23T21:33:35.950Z"
   },
   {
    "duration": 190,
    "start_time": "2022-11-23T21:33:41.837Z"
   },
   {
    "duration": 219,
    "start_time": "2022-11-23T21:33:48.367Z"
   },
   {
    "duration": 250,
    "start_time": "2022-11-23T21:33:53.745Z"
   },
   {
    "duration": 279,
    "start_time": "2022-11-23T21:33:59.648Z"
   },
   {
    "duration": 183,
    "start_time": "2022-11-23T21:34:06.713Z"
   },
   {
    "duration": 167,
    "start_time": "2022-11-23T21:34:11.899Z"
   },
   {
    "duration": 100,
    "start_time": "2022-11-23T21:34:17.257Z"
   },
   {
    "duration": 80,
    "start_time": "2022-11-23T21:34:22.917Z"
   },
   {
    "duration": 58,
    "start_time": "2022-11-23T21:34:31.184Z"
   },
   {
    "duration": 78,
    "start_time": "2022-11-23T21:34:36.723Z"
   },
   {
    "duration": 156,
    "start_time": "2022-11-23T21:35:15.401Z"
   },
   {
    "duration": 81,
    "start_time": "2022-11-23T21:38:37.972Z"
   },
   {
    "duration": 15002,
    "start_time": "2022-11-23T21:42:30.592Z"
   },
   {
    "duration": 109269,
    "start_time": "2022-11-23T21:43:21.057Z"
   },
   {
    "duration": 33657,
    "start_time": "2022-11-23T21:46:41.960Z"
   },
   {
    "duration": 15420,
    "start_time": "2022-11-23T21:47:27.437Z"
   },
   {
    "duration": 10929,
    "start_time": "2022-11-23T21:47:55.944Z"
   },
   {
    "duration": 27149,
    "start_time": "2022-11-23T21:48:14.488Z"
   },
   {
    "duration": 34402,
    "start_time": "2022-11-23T21:48:50.662Z"
   },
   {
    "duration": 27094,
    "start_time": "2022-11-23T21:49:33.510Z"
   },
   {
    "duration": 30766,
    "start_time": "2022-11-23T21:50:17.887Z"
   },
   {
    "duration": 20878,
    "start_time": "2022-11-23T21:51:06.167Z"
   },
   {
    "duration": 23580,
    "start_time": "2022-11-23T21:51:41.490Z"
   },
   {
    "duration": 20672,
    "start_time": "2022-11-23T21:52:16.693Z"
   },
   {
    "duration": 1684,
    "start_time": "2022-11-24T05:17:09.296Z"
   },
   {
    "duration": 0,
    "start_time": "2022-11-24T05:17:10.982Z"
   },
   {
    "duration": 0,
    "start_time": "2022-11-24T05:17:10.983Z"
   },
   {
    "duration": 0,
    "start_time": "2022-11-24T05:17:10.984Z"
   },
   {
    "duration": 0,
    "start_time": "2022-11-24T05:17:10.985Z"
   },
   {
    "duration": 0,
    "start_time": "2022-11-24T05:17:10.987Z"
   },
   {
    "duration": 0,
    "start_time": "2022-11-24T05:17:10.988Z"
   },
   {
    "duration": 0,
    "start_time": "2022-11-24T05:17:10.989Z"
   },
   {
    "duration": 0,
    "start_time": "2022-11-24T05:17:10.990Z"
   },
   {
    "duration": 0,
    "start_time": "2022-11-24T05:17:10.992Z"
   },
   {
    "duration": 0,
    "start_time": "2022-11-24T05:17:11.013Z"
   },
   {
    "duration": 0,
    "start_time": "2022-11-24T05:17:11.014Z"
   },
   {
    "duration": 0,
    "start_time": "2022-11-24T05:17:11.015Z"
   },
   {
    "duration": 0,
    "start_time": "2022-11-24T05:17:11.017Z"
   },
   {
    "duration": 0,
    "start_time": "2022-11-24T05:17:11.018Z"
   },
   {
    "duration": 0,
    "start_time": "2022-11-24T05:17:11.020Z"
   },
   {
    "duration": 0,
    "start_time": "2022-11-24T05:17:11.020Z"
   },
   {
    "duration": 0,
    "start_time": "2022-11-24T05:17:11.022Z"
   },
   {
    "duration": 0,
    "start_time": "2022-11-24T05:17:11.023Z"
   },
   {
    "duration": 0,
    "start_time": "2022-11-24T05:17:11.024Z"
   },
   {
    "duration": 0,
    "start_time": "2022-11-24T05:17:11.025Z"
   },
   {
    "duration": 0,
    "start_time": "2022-11-24T05:17:11.026Z"
   },
   {
    "duration": 0,
    "start_time": "2022-11-24T05:17:11.027Z"
   },
   {
    "duration": 0,
    "start_time": "2022-11-24T05:17:11.028Z"
   },
   {
    "duration": 0,
    "start_time": "2022-11-24T05:17:11.029Z"
   },
   {
    "duration": 0,
    "start_time": "2022-11-24T05:17:11.030Z"
   },
   {
    "duration": 0,
    "start_time": "2022-11-24T05:17:11.030Z"
   },
   {
    "duration": 0,
    "start_time": "2022-11-24T05:17:11.031Z"
   },
   {
    "duration": 0,
    "start_time": "2022-11-24T05:17:11.032Z"
   },
   {
    "duration": 0,
    "start_time": "2022-11-24T05:17:11.033Z"
   },
   {
    "duration": 0,
    "start_time": "2022-11-24T05:17:11.034Z"
   },
   {
    "duration": 0,
    "start_time": "2022-11-24T05:17:11.035Z"
   },
   {
    "duration": 0,
    "start_time": "2022-11-24T05:17:11.037Z"
   },
   {
    "duration": 0,
    "start_time": "2022-11-24T05:17:11.038Z"
   },
   {
    "duration": 1453,
    "start_time": "2022-11-24T05:34:05.512Z"
   },
   {
    "duration": 0,
    "start_time": "2022-11-24T05:34:06.967Z"
   },
   {
    "duration": 0,
    "start_time": "2022-11-24T05:34:06.968Z"
   },
   {
    "duration": 0,
    "start_time": "2022-11-24T05:34:06.969Z"
   },
   {
    "duration": 0,
    "start_time": "2022-11-24T05:34:06.971Z"
   },
   {
    "duration": 0,
    "start_time": "2022-11-24T05:34:06.971Z"
   },
   {
    "duration": 0,
    "start_time": "2022-11-24T05:34:06.972Z"
   },
   {
    "duration": 0,
    "start_time": "2022-11-24T05:34:06.973Z"
   },
   {
    "duration": 0,
    "start_time": "2022-11-24T05:34:06.974Z"
   },
   {
    "duration": 0,
    "start_time": "2022-11-24T05:34:06.975Z"
   },
   {
    "duration": 0,
    "start_time": "2022-11-24T05:34:06.976Z"
   },
   {
    "duration": 0,
    "start_time": "2022-11-24T05:34:06.977Z"
   },
   {
    "duration": 0,
    "start_time": "2022-11-24T05:34:06.978Z"
   },
   {
    "duration": 0,
    "start_time": "2022-11-24T05:34:06.979Z"
   },
   {
    "duration": 0,
    "start_time": "2022-11-24T05:34:06.980Z"
   },
   {
    "duration": 0,
    "start_time": "2022-11-24T05:34:06.981Z"
   },
   {
    "duration": 0,
    "start_time": "2022-11-24T05:34:06.983Z"
   },
   {
    "duration": 0,
    "start_time": "2022-11-24T05:34:06.983Z"
   },
   {
    "duration": 0,
    "start_time": "2022-11-24T05:34:06.984Z"
   },
   {
    "duration": 0,
    "start_time": "2022-11-24T05:34:06.985Z"
   },
   {
    "duration": 0,
    "start_time": "2022-11-24T05:34:06.986Z"
   },
   {
    "duration": 0,
    "start_time": "2022-11-24T05:34:07.013Z"
   },
   {
    "duration": 0,
    "start_time": "2022-11-24T05:34:07.014Z"
   },
   {
    "duration": 0,
    "start_time": "2022-11-24T05:34:07.015Z"
   },
   {
    "duration": 0,
    "start_time": "2022-11-24T05:34:07.016Z"
   },
   {
    "duration": 0,
    "start_time": "2022-11-24T05:34:07.017Z"
   },
   {
    "duration": 0,
    "start_time": "2022-11-24T05:34:07.017Z"
   },
   {
    "duration": 0,
    "start_time": "2022-11-24T05:34:07.019Z"
   },
   {
    "duration": 0,
    "start_time": "2022-11-24T05:34:07.020Z"
   },
   {
    "duration": 0,
    "start_time": "2022-11-24T05:34:07.021Z"
   },
   {
    "duration": 0,
    "start_time": "2022-11-24T05:34:07.022Z"
   },
   {
    "duration": 0,
    "start_time": "2022-11-24T05:34:07.023Z"
   },
   {
    "duration": 0,
    "start_time": "2022-11-24T05:34:07.024Z"
   },
   {
    "duration": 0,
    "start_time": "2022-11-24T05:34:07.025Z"
   },
   {
    "duration": 106,
    "start_time": "2022-11-24T05:35:18.233Z"
   },
   {
    "duration": 6874,
    "start_time": "2022-11-24T05:35:37.519Z"
   },
   {
    "duration": 1901,
    "start_time": "2022-11-24T05:36:15.823Z"
   },
   {
    "duration": 21,
    "start_time": "2022-11-24T05:36:31.618Z"
   },
   {
    "duration": 20,
    "start_time": "2022-11-24T05:36:39.648Z"
   },
   {
    "duration": 165,
    "start_time": "2022-11-24T05:36:47.610Z"
   },
   {
    "duration": 1214,
    "start_time": "2022-11-24T05:36:55.396Z"
   },
   {
    "duration": 22,
    "start_time": "2022-11-24T05:36:56.612Z"
   },
   {
    "duration": 11,
    "start_time": "2022-11-24T05:36:56.635Z"
   },
   {
    "duration": 3,
    "start_time": "2022-11-24T05:36:56.648Z"
   },
   {
    "duration": 15,
    "start_time": "2022-11-24T05:36:56.653Z"
   },
   {
    "duration": 49,
    "start_time": "2022-11-24T05:36:56.669Z"
   },
   {
    "duration": 5,
    "start_time": "2022-11-24T05:36:56.719Z"
   },
   {
    "duration": 11,
    "start_time": "2022-11-24T05:36:56.726Z"
   },
   {
    "duration": 16,
    "start_time": "2022-11-24T05:36:56.738Z"
   },
   {
    "duration": 3,
    "start_time": "2022-11-24T05:36:56.756Z"
   },
   {
    "duration": 19,
    "start_time": "2022-11-24T05:36:56.760Z"
   },
   {
    "duration": 36,
    "start_time": "2022-11-24T05:36:56.780Z"
   },
   {
    "duration": 11,
    "start_time": "2022-11-24T05:36:56.817Z"
   },
   {
    "duration": 23,
    "start_time": "2022-11-24T05:36:56.830Z"
   },
   {
    "duration": 10,
    "start_time": "2022-11-24T05:36:56.854Z"
   },
   {
    "duration": 3,
    "start_time": "2022-11-24T05:36:56.866Z"
   },
   {
    "duration": 76,
    "start_time": "2022-11-24T05:36:56.870Z"
   },
   {
    "duration": 0,
    "start_time": "2022-11-24T05:36:56.948Z"
   },
   {
    "duration": 0,
    "start_time": "2022-11-24T05:36:56.949Z"
   },
   {
    "duration": 0,
    "start_time": "2022-11-24T05:36:56.951Z"
   },
   {
    "duration": 0,
    "start_time": "2022-11-24T05:36:56.952Z"
   },
   {
    "duration": 0,
    "start_time": "2022-11-24T05:36:56.953Z"
   },
   {
    "duration": 0,
    "start_time": "2022-11-24T05:36:56.955Z"
   },
   {
    "duration": 0,
    "start_time": "2022-11-24T05:36:56.956Z"
   },
   {
    "duration": 0,
    "start_time": "2022-11-24T05:36:56.957Z"
   },
   {
    "duration": 0,
    "start_time": "2022-11-24T05:36:56.959Z"
   },
   {
    "duration": 0,
    "start_time": "2022-11-24T05:36:56.960Z"
   },
   {
    "duration": 0,
    "start_time": "2022-11-24T05:36:56.961Z"
   },
   {
    "duration": 0,
    "start_time": "2022-11-24T05:36:56.963Z"
   },
   {
    "duration": 0,
    "start_time": "2022-11-24T05:36:56.964Z"
   },
   {
    "duration": 0,
    "start_time": "2022-11-24T05:36:56.965Z"
   },
   {
    "duration": 0,
    "start_time": "2022-11-24T05:36:56.967Z"
   },
   {
    "duration": 0,
    "start_time": "2022-11-24T05:36:56.968Z"
   },
   {
    "duration": 0,
    "start_time": "2022-11-24T05:36:56.969Z"
   },
   {
    "duration": 24,
    "start_time": "2022-11-24T05:39:39.828Z"
   },
   {
    "duration": 1186,
    "start_time": "2022-11-24T05:40:13.649Z"
   },
   {
    "duration": 21,
    "start_time": "2022-11-24T05:40:14.836Z"
   },
   {
    "duration": 12,
    "start_time": "2022-11-24T05:40:14.858Z"
   },
   {
    "duration": 3,
    "start_time": "2022-11-24T05:40:14.872Z"
   },
   {
    "duration": 9,
    "start_time": "2022-11-24T05:40:14.877Z"
   },
   {
    "duration": 38,
    "start_time": "2022-11-24T05:40:14.887Z"
   },
   {
    "duration": 5,
    "start_time": "2022-11-24T05:40:14.926Z"
   },
   {
    "duration": 9,
    "start_time": "2022-11-24T05:40:14.932Z"
   },
   {
    "duration": 25,
    "start_time": "2022-11-24T05:40:14.942Z"
   },
   {
    "duration": 7,
    "start_time": "2022-11-24T05:40:14.970Z"
   },
   {
    "duration": 38,
    "start_time": "2022-11-24T05:40:14.979Z"
   },
   {
    "duration": 21,
    "start_time": "2022-11-24T05:40:15.019Z"
   },
   {
    "duration": 10,
    "start_time": "2022-11-24T05:40:15.041Z"
   },
   {
    "duration": 22,
    "start_time": "2022-11-24T05:40:15.052Z"
   },
   {
    "duration": 10,
    "start_time": "2022-11-24T05:40:15.075Z"
   },
   {
    "duration": 15,
    "start_time": "2022-11-24T05:40:15.087Z"
   },
   {
    "duration": 108,
    "start_time": "2022-11-24T05:40:15.104Z"
   },
   {
    "duration": 4,
    "start_time": "2022-11-24T05:40:15.213Z"
   },
   {
    "duration": 359,
    "start_time": "2022-11-24T05:40:15.218Z"
   },
   {
    "duration": 938,
    "start_time": "2022-11-24T05:40:15.578Z"
   },
   {
    "duration": 224810,
    "start_time": "2022-11-24T05:40:16.518Z"
   },
   {
    "duration": 1681,
    "start_time": "2022-11-24T05:44:01.329Z"
   },
   {
    "duration": 106,
    "start_time": "2022-11-24T05:44:03.011Z"
   },
   {
    "duration": 94,
    "start_time": "2022-11-24T05:44:03.119Z"
   },
   {
    "duration": 375,
    "start_time": "2022-11-24T05:44:03.215Z"
   },
   {
    "duration": 113,
    "start_time": "2022-11-24T05:44:03.591Z"
   },
   {
    "duration": 10292,
    "start_time": "2022-11-24T05:44:03.706Z"
   },
   {
    "duration": 21,
    "start_time": "2022-11-24T05:44:14.001Z"
   },
   {
    "duration": 94,
    "start_time": "2022-11-24T05:44:14.024Z"
   },
   {
    "duration": 96,
    "start_time": "2022-11-24T05:44:14.120Z"
   },
   {
    "duration": 113,
    "start_time": "2022-11-24T05:44:14.218Z"
   },
   {
    "duration": 19251,
    "start_time": "2022-11-24T05:44:14.332Z"
   },
   {
    "duration": 145,
    "start_time": "2022-11-24T05:44:33.585Z"
   },
   {
    "duration": 3,
    "start_time": "2022-11-24T05:44:33.732Z"
   },
   {
    "duration": 25,
    "start_time": "2022-11-24T06:08:56.474Z"
   },
   {
    "duration": 571,
    "start_time": "2022-11-24T06:12:57.279Z"
   },
   {
    "duration": 965,
    "start_time": "2022-11-24T06:13:04.141Z"
   },
   {
    "duration": 225508,
    "start_time": "2022-11-24T06:17:53.618Z"
   },
   {
    "duration": 1524,
    "start_time": "2022-11-24T06:26:14.587Z"
   },
   {
    "duration": 118,
    "start_time": "2022-11-24T06:26:55.665Z"
   },
   {
    "duration": 26,
    "start_time": "2022-11-24T06:29:52.597Z"
   },
   {
    "duration": 118,
    "start_time": "2022-11-24T06:30:47.016Z"
   },
   {
    "duration": 14,
    "start_time": "2022-11-24T06:32:31.298Z"
   },
   {
    "duration": 23,
    "start_time": "2022-11-24T06:33:05.275Z"
   },
   {
    "duration": 87,
    "start_time": "2022-11-24T06:41:52.794Z"
   },
   {
    "duration": 86,
    "start_time": "2022-11-24T06:42:05.826Z"
   },
   {
    "duration": 1704,
    "start_time": "2022-11-24T08:28:54.896Z"
   },
   {
    "duration": 29,
    "start_time": "2022-11-24T08:28:56.602Z"
   },
   {
    "duration": 14,
    "start_time": "2022-11-24T08:28:56.632Z"
   },
   {
    "duration": 3,
    "start_time": "2022-11-24T08:28:56.648Z"
   },
   {
    "duration": 13,
    "start_time": "2022-11-24T08:28:56.653Z"
   },
   {
    "duration": 30,
    "start_time": "2022-11-24T08:28:56.667Z"
   },
   {
    "duration": 9,
    "start_time": "2022-11-24T08:28:56.699Z"
   },
   {
    "duration": 11,
    "start_time": "2022-11-24T08:28:56.709Z"
   },
   {
    "duration": 19,
    "start_time": "2022-11-24T08:28:56.721Z"
   },
   {
    "duration": 37,
    "start_time": "2022-11-24T08:28:56.742Z"
   },
   {
    "duration": 12,
    "start_time": "2022-11-24T08:28:56.780Z"
   },
   {
    "duration": 15,
    "start_time": "2022-11-24T08:28:56.793Z"
   },
   {
    "duration": 10,
    "start_time": "2022-11-24T08:28:56.810Z"
   },
   {
    "duration": 24,
    "start_time": "2022-11-24T08:28:56.822Z"
   },
   {
    "duration": 37,
    "start_time": "2022-11-24T08:28:56.848Z"
   },
   {
    "duration": 3,
    "start_time": "2022-11-24T08:28:56.886Z"
   },
   {
    "duration": 28,
    "start_time": "2022-11-24T08:28:56.891Z"
   },
   {
    "duration": 3,
    "start_time": "2022-11-24T08:28:56.979Z"
   },
   {
    "duration": 372,
    "start_time": "2022-11-24T08:28:56.984Z"
   },
   {
    "duration": 241519,
    "start_time": "2022-11-24T08:28:57.357Z"
   },
   {
    "duration": 118,
    "start_time": "2022-11-24T08:32:58.878Z"
   },
   {
    "duration": 994,
    "start_time": "2022-11-24T08:32:58.998Z"
   },
   {
    "duration": 1699,
    "start_time": "2022-11-24T08:32:59.994Z"
   },
   {
    "duration": 92,
    "start_time": "2022-11-24T08:33:01.694Z"
   },
   {
    "duration": 386,
    "start_time": "2022-11-24T08:33:01.788Z"
   },
   {
    "duration": 120,
    "start_time": "2022-11-24T08:33:02.178Z"
   },
   {
    "duration": 11058,
    "start_time": "2022-11-24T08:33:02.300Z"
   },
   {
    "duration": 24,
    "start_time": "2022-11-24T08:33:13.361Z"
   },
   {
    "duration": 31,
    "start_time": "2022-11-24T08:33:13.387Z"
   },
   {
    "duration": 10,
    "start_time": "2022-11-24T08:33:13.477Z"
   },
   {
    "duration": 193,
    "start_time": "2022-11-24T08:33:13.490Z"
   },
   {
    "duration": 336,
    "start_time": "2022-11-24T08:33:13.685Z"
   },
   {
    "duration": 0,
    "start_time": "2022-11-24T08:33:14.023Z"
   },
   {
    "duration": 0,
    "start_time": "2022-11-24T08:33:14.024Z"
   },
   {
    "duration": 157,
    "start_time": "2022-11-24T08:34:17.598Z"
   },
   {
    "duration": 20180,
    "start_time": "2022-11-24T08:34:24.084Z"
   },
   {
    "duration": 165,
    "start_time": "2022-11-24T08:34:44.266Z"
   },
   {
    "duration": 21035,
    "start_time": "2022-11-24T08:42:45.809Z"
   },
   {
    "duration": 80,
    "start_time": "2022-11-24T08:51:49.940Z"
   },
   {
    "duration": 16,
    "start_time": "2022-11-24T08:52:25.576Z"
   },
   {
    "duration": 48,
    "start_time": "2022-11-24T08:59:47.040Z"
   },
   {
    "duration": 123,
    "start_time": "2022-11-24T09:02:56.817Z"
   },
   {
    "duration": 107,
    "start_time": "2022-11-24T09:04:21.092Z"
   },
   {
    "duration": 111,
    "start_time": "2022-11-24T09:06:48.745Z"
   },
   {
    "duration": 1520,
    "start_time": "2022-11-24T16:29:37.026Z"
   },
   {
    "duration": 25,
    "start_time": "2022-11-24T16:29:38.548Z"
   },
   {
    "duration": 24,
    "start_time": "2022-11-24T16:29:38.575Z"
   },
   {
    "duration": 19,
    "start_time": "2022-11-24T16:29:38.601Z"
   },
   {
    "duration": 42,
    "start_time": "2022-11-24T16:29:38.622Z"
   },
   {
    "duration": 41,
    "start_time": "2022-11-24T16:29:38.666Z"
   },
   {
    "duration": 6,
    "start_time": "2022-11-24T16:29:38.709Z"
   },
   {
    "duration": 25,
    "start_time": "2022-11-24T16:29:38.716Z"
   },
   {
    "duration": 37,
    "start_time": "2022-11-24T16:29:38.743Z"
   },
   {
    "duration": 6,
    "start_time": "2022-11-24T16:29:38.783Z"
   },
   {
    "duration": 30,
    "start_time": "2022-11-24T16:29:38.790Z"
   },
   {
    "duration": 20,
    "start_time": "2022-11-24T16:29:38.821Z"
   },
   {
    "duration": 37,
    "start_time": "2022-11-24T16:29:38.843Z"
   },
   {
    "duration": 30,
    "start_time": "2022-11-24T16:29:38.882Z"
   },
   {
    "duration": 13,
    "start_time": "2022-11-24T16:29:38.914Z"
   },
   {
    "duration": 12,
    "start_time": "2022-11-24T16:29:38.929Z"
   },
   {
    "duration": 43,
    "start_time": "2022-11-24T16:29:38.942Z"
   },
   {
    "duration": 203,
    "start_time": "2022-11-24T16:29:38.989Z"
   },
   {
    "duration": 292,
    "start_time": "2022-11-24T16:29:39.193Z"
   },
   {
    "duration": 240579,
    "start_time": "2022-11-24T16:29:39.486Z"
   },
   {
    "duration": 132,
    "start_time": "2022-11-24T16:33:40.067Z"
   },
   {
    "duration": 981,
    "start_time": "2022-11-24T16:33:40.201Z"
   },
   {
    "duration": 1662,
    "start_time": "2022-11-24T16:33:41.184Z"
   },
   {
    "duration": 36,
    "start_time": "2022-11-24T16:33:42.848Z"
   },
   {
    "duration": 492,
    "start_time": "2022-11-24T16:33:42.886Z"
   },
   {
    "duration": 124,
    "start_time": "2022-11-24T16:33:43.380Z"
   },
   {
    "duration": 11310,
    "start_time": "2022-11-24T16:33:43.506Z"
   },
   {
    "duration": 17,
    "start_time": "2022-11-24T16:33:54.819Z"
   },
   {
    "duration": 48,
    "start_time": "2022-11-24T16:33:54.838Z"
   },
   {
    "duration": 98,
    "start_time": "2022-11-24T16:33:54.889Z"
   },
   {
    "duration": 136,
    "start_time": "2022-11-24T16:33:55.077Z"
   },
   {
    "duration": 188,
    "start_time": "2022-11-24T16:33:55.215Z"
   },
   {
    "duration": 192,
    "start_time": "2022-11-24T16:33:55.405Z"
   },
   {
    "duration": 124,
    "start_time": "2022-11-24T16:33:55.598Z"
   },
   {
    "duration": 22282,
    "start_time": "2022-11-24T16:33:55.723Z"
   },
   {
    "duration": 117,
    "start_time": "2022-11-24T16:34:18.007Z"
   },
   {
    "duration": 15,
    "start_time": "2022-11-24T16:34:18.126Z"
   },
   {
    "duration": 145,
    "start_time": "2022-11-24T16:52:45.188Z"
   },
   {
    "duration": 198,
    "start_time": "2022-11-24T16:55:17.046Z"
   },
   {
    "duration": 118,
    "start_time": "2022-11-24T16:55:36.635Z"
   },
   {
    "duration": 120,
    "start_time": "2022-11-24T16:55:47.477Z"
   },
   {
    "duration": 212,
    "start_time": "2022-11-24T16:55:58.196Z"
   },
   {
    "duration": 161,
    "start_time": "2022-11-24T16:56:09.503Z"
   },
   {
    "duration": 145,
    "start_time": "2022-11-24T16:56:27.288Z"
   },
   {
    "duration": 256,
    "start_time": "2022-11-24T17:03:30.256Z"
   },
   {
    "duration": 138,
    "start_time": "2022-11-24T17:03:46.096Z"
   },
   {
    "duration": 169,
    "start_time": "2022-11-24T17:12:41.978Z"
   },
   {
    "duration": 161,
    "start_time": "2022-11-24T17:13:17.668Z"
   },
   {
    "duration": 3811,
    "start_time": "2022-11-24T17:18:21.171Z"
   },
   {
    "duration": 15622,
    "start_time": "2022-11-24T17:18:36.428Z"
   },
   {
    "duration": 21240,
    "start_time": "2022-11-24T17:20:30.521Z"
   },
   {
    "duration": 35,
    "start_time": "2022-11-24T17:26:57.541Z"
   },
   {
    "duration": 49,
    "start_time": "2022-11-24T17:32:08.285Z"
   },
   {
    "duration": 45,
    "start_time": "2022-11-24T17:32:26.540Z"
   },
   {
    "duration": 113,
    "start_time": "2022-11-24T17:32:37.652Z"
   },
   {
    "duration": 26,
    "start_time": "2022-11-24T17:56:25.036Z"
   },
   {
    "duration": 25,
    "start_time": "2022-11-24T17:58:07.340Z"
   },
   {
    "duration": 10,
    "start_time": "2022-11-24T17:58:42.296Z"
   },
   {
    "duration": 45,
    "start_time": "2022-11-24T17:59:03.847Z"
   },
   {
    "duration": 7,
    "start_time": "2022-11-24T17:59:49.025Z"
   },
   {
    "duration": 221,
    "start_time": "2022-11-24T18:10:05.089Z"
   },
   {
    "duration": 200,
    "start_time": "2022-11-24T19:00:44.787Z"
   },
   {
    "duration": 154,
    "start_time": "2022-11-24T19:00:52.389Z"
   },
   {
    "duration": 38,
    "start_time": "2022-11-24T19:03:08.434Z"
   },
   {
    "duration": 201,
    "start_time": "2022-11-24T19:03:17.215Z"
   },
   {
    "duration": 641,
    "start_time": "2022-11-24T19:03:22.981Z"
   },
   {
    "duration": 39,
    "start_time": "2022-11-24T19:04:54.955Z"
   },
   {
    "duration": 211,
    "start_time": "2022-11-24T19:04:57.209Z"
   },
   {
    "duration": 683,
    "start_time": "2022-11-24T19:05:00.859Z"
   },
   {
    "duration": 30,
    "start_time": "2022-11-24T19:09:47.399Z"
   },
   {
    "duration": 188,
    "start_time": "2022-11-24T19:11:45.134Z"
   },
   {
    "duration": 570,
    "start_time": "2022-11-24T19:15:03.735Z"
   },
   {
    "duration": 36,
    "start_time": "2022-11-24T19:16:38.860Z"
   },
   {
    "duration": 198,
    "start_time": "2022-11-24T19:16:40.891Z"
   },
   {
    "duration": 186,
    "start_time": "2022-11-24T19:16:46.377Z"
   },
   {
    "duration": 640,
    "start_time": "2022-11-24T19:16:48.849Z"
   },
   {
    "duration": 31,
    "start_time": "2022-11-24T19:16:55.788Z"
   },
   {
    "duration": 189,
    "start_time": "2022-11-24T19:16:57.333Z"
   },
   {
    "duration": 631,
    "start_time": "2022-11-24T19:16:58.733Z"
   },
   {
    "duration": 636,
    "start_time": "2022-11-24T19:17:58.995Z"
   },
   {
    "duration": 635,
    "start_time": "2022-11-24T19:18:05.692Z"
   },
   {
    "duration": 623,
    "start_time": "2022-11-24T19:18:21.507Z"
   },
   {
    "duration": 677,
    "start_time": "2022-11-24T19:18:28.809Z"
   },
   {
    "duration": 883,
    "start_time": "2022-11-24T19:18:34.704Z"
   },
   {
    "duration": 930,
    "start_time": "2022-11-24T19:18:42.742Z"
   },
   {
    "duration": 996,
    "start_time": "2022-11-24T19:18:51.124Z"
   },
   {
    "duration": 1137,
    "start_time": "2022-11-24T19:18:58.648Z"
   },
   {
    "duration": 2282,
    "start_time": "2022-11-24T19:19:05.305Z"
   },
   {
    "duration": 3334,
    "start_time": "2022-11-24T19:19:13.246Z"
   },
   {
    "duration": 2794,
    "start_time": "2022-11-24T19:20:17.413Z"
   },
   {
    "duration": 5496,
    "start_time": "2022-11-24T19:20:29.235Z"
   },
   {
    "duration": 2798,
    "start_time": "2022-11-24T19:20:40.451Z"
   },
   {
    "duration": 582,
    "start_time": "2022-11-24T19:20:55.297Z"
   },
   {
    "duration": 2734,
    "start_time": "2022-11-24T19:21:01.952Z"
   },
   {
    "duration": 190,
    "start_time": "2022-11-24T19:21:15.816Z"
   },
   {
    "duration": 194,
    "start_time": "2022-11-24T19:21:22.296Z"
   },
   {
    "duration": 191,
    "start_time": "2022-11-24T19:21:26.881Z"
   },
   {
    "duration": 211,
    "start_time": "2022-11-24T19:21:33.038Z"
   },
   {
    "duration": 35,
    "start_time": "2022-11-24T19:21:43.808Z"
   },
   {
    "duration": 44,
    "start_time": "2022-11-24T19:21:48.814Z"
   },
   {
    "duration": 33,
    "start_time": "2022-11-24T19:21:53.657Z"
   },
   {
    "duration": 3439,
    "start_time": "2022-11-24T19:22:32.732Z"
   },
   {
    "duration": 3154,
    "start_time": "2022-11-24T19:23:23.427Z"
   },
   {
    "duration": 402698,
    "start_time": "2022-11-24T19:32:18.931Z"
   },
   {
    "duration": 146,
    "start_time": "2022-11-24T19:46:35.551Z"
   },
   {
    "duration": 2536,
    "start_time": "2022-11-24T19:48:48.620Z"
   },
   {
    "duration": 3140,
    "start_time": "2022-11-24T19:49:14.481Z"
   },
   {
    "duration": 273057,
    "start_time": "2022-11-24T19:49:55.556Z"
   },
   {
    "duration": 80,
    "start_time": "2022-11-24T20:06:33.125Z"
   },
   {
    "duration": 13,
    "start_time": "2022-11-24T20:06:45.802Z"
   },
   {
    "duration": 1435,
    "start_time": "2022-11-24T20:54:30.703Z"
   },
   {
    "duration": 22,
    "start_time": "2022-11-24T20:54:32.141Z"
   },
   {
    "duration": 23,
    "start_time": "2022-11-24T20:54:32.165Z"
   },
   {
    "duration": 25,
    "start_time": "2022-11-24T20:54:32.189Z"
   },
   {
    "duration": 29,
    "start_time": "2022-11-24T20:54:32.216Z"
   },
   {
    "duration": 46,
    "start_time": "2022-11-24T20:54:32.247Z"
   },
   {
    "duration": 6,
    "start_time": "2022-11-24T20:54:32.294Z"
   },
   {
    "duration": 36,
    "start_time": "2022-11-24T20:54:32.302Z"
   },
   {
    "duration": 28,
    "start_time": "2022-11-24T20:54:32.339Z"
   },
   {
    "duration": 7,
    "start_time": "2022-11-24T20:54:32.370Z"
   },
   {
    "duration": 14,
    "start_time": "2022-11-24T20:54:32.379Z"
   },
   {
    "duration": 31,
    "start_time": "2022-11-24T20:54:32.394Z"
   },
   {
    "duration": 14,
    "start_time": "2022-11-24T20:54:32.426Z"
   },
   {
    "duration": 46,
    "start_time": "2022-11-24T20:54:32.441Z"
   },
   {
    "duration": 12,
    "start_time": "2022-11-24T20:54:32.488Z"
   },
   {
    "duration": 6,
    "start_time": "2022-11-24T20:54:32.501Z"
   },
   {
    "duration": 71,
    "start_time": "2022-11-24T20:54:32.509Z"
   },
   {
    "duration": 383,
    "start_time": "2022-11-24T20:54:32.581Z"
   },
   {
    "duration": 241058,
    "start_time": "2022-11-24T20:54:32.966Z"
   },
   {
    "duration": 127,
    "start_time": "2022-11-24T20:58:34.026Z"
   },
   {
    "duration": 271851,
    "start_time": "2022-11-24T20:58:34.155Z"
   },
   {
    "duration": 21418,
    "start_time": "2022-11-24T21:03:06.008Z"
   },
   {
    "duration": 49,
    "start_time": "2022-11-24T21:03:27.428Z"
   },
   {
    "duration": 393,
    "start_time": "2022-11-24T21:03:27.480Z"
   },
   {
    "duration": 271982,
    "start_time": "2022-11-24T21:03:27.875Z"
   },
   {
    "duration": 27,
    "start_time": "2022-11-24T21:07:59.858Z"
   },
   {
    "duration": 26,
    "start_time": "2022-11-24T21:07:59.887Z"
   },
   {
    "duration": 11,
    "start_time": "2022-11-24T21:07:59.977Z"
   },
   {
    "duration": 191,
    "start_time": "2022-11-24T21:07:59.991Z"
   },
   {
    "duration": 193,
    "start_time": "2022-11-24T21:08:00.183Z"
   },
   {
    "duration": 407766,
    "start_time": "2022-11-24T21:08:00.378Z"
   },
   {
    "duration": 163,
    "start_time": "2022-11-24T21:14:48.146Z"
   },
   {
    "duration": 15,
    "start_time": "2022-11-24T21:14:48.311Z"
   },
   {
    "duration": 3167,
    "start_time": "2022-11-24T21:14:48.328Z"
   },
   {
    "duration": 46,
    "start_time": "2022-11-25T19:52:38.033Z"
   },
   {
    "duration": 1773,
    "start_time": "2022-11-25T19:53:06.006Z"
   },
   {
    "duration": 34,
    "start_time": "2022-11-25T19:53:10.465Z"
   },
   {
    "duration": 12,
    "start_time": "2022-11-25T19:53:11.812Z"
   },
   {
    "duration": 4,
    "start_time": "2022-11-25T19:53:13.164Z"
   },
   {
    "duration": 9,
    "start_time": "2022-11-25T19:53:14.594Z"
   },
   {
    "duration": 25,
    "start_time": "2022-11-25T19:53:15.972Z"
   },
   {
    "duration": 74,
    "start_time": "2022-11-25T19:56:43.570Z"
   },
   {
    "duration": 9,
    "start_time": "2022-11-25T20:01:57.788Z"
   },
   {
    "duration": 6,
    "start_time": "2022-11-25T20:04:01.849Z"
   },
   {
    "duration": 7,
    "start_time": "2022-11-25T20:04:06.136Z"
   },
   {
    "duration": 19,
    "start_time": "2022-11-25T20:04:09.253Z"
   },
   {
    "duration": 4,
    "start_time": "2022-11-25T20:04:11.396Z"
   },
   {
    "duration": 11,
    "start_time": "2022-11-25T20:04:13.886Z"
   },
   {
    "duration": 11,
    "start_time": "2022-11-25T20:04:18.116Z"
   },
   {
    "duration": 10,
    "start_time": "2022-11-25T20:04:54.505Z"
   },
   {
    "duration": 19,
    "start_time": "2022-11-25T20:05:01.777Z"
   },
   {
    "duration": 16,
    "start_time": "2022-11-25T20:09:40.314Z"
   },
   {
    "duration": 12,
    "start_time": "2022-11-25T20:40:40.792Z"
   },
   {
    "duration": 26,
    "start_time": "2022-11-25T20:41:03.352Z"
   },
   {
    "duration": 12,
    "start_time": "2022-11-25T20:41:07.158Z"
   },
   {
    "duration": 4,
    "start_time": "2022-11-25T20:41:12.134Z"
   },
   {
    "duration": 69,
    "start_time": "2022-11-25T20:41:15.254Z"
   },
   {
    "duration": 330,
    "start_time": "2022-11-25T20:41:18.694Z"
   },
   {
    "duration": 303,
    "start_time": "2022-11-25T20:42:58.834Z"
   },
   {
    "duration": 35,
    "start_time": "2022-11-25T20:45:51.988Z"
   },
   {
    "duration": 45,
    "start_time": "2022-11-26T08:35:20.964Z"
   },
   {
    "duration": 1772,
    "start_time": "2022-11-26T09:16:02.136Z"
   },
   {
    "duration": 24,
    "start_time": "2022-11-26T09:16:03.911Z"
   },
   {
    "duration": 14,
    "start_time": "2022-11-26T09:16:03.937Z"
   },
   {
    "duration": 3,
    "start_time": "2022-11-26T09:16:03.954Z"
   },
   {
    "duration": 8,
    "start_time": "2022-11-26T09:16:03.959Z"
   },
   {
    "duration": 18,
    "start_time": "2022-11-26T09:16:03.969Z"
   },
   {
    "duration": 5,
    "start_time": "2022-11-26T09:16:03.989Z"
   },
   {
    "duration": 12,
    "start_time": "2022-11-26T09:16:03.995Z"
   },
   {
    "duration": 57,
    "start_time": "2022-11-26T09:16:04.009Z"
   },
   {
    "duration": 3,
    "start_time": "2022-11-26T09:16:04.069Z"
   },
   {
    "duration": 13,
    "start_time": "2022-11-26T09:16:04.074Z"
   },
   {
    "duration": 14,
    "start_time": "2022-11-26T09:16:04.089Z"
   },
   {
    "duration": 11,
    "start_time": "2022-11-26T09:16:04.104Z"
   },
   {
    "duration": 52,
    "start_time": "2022-11-26T09:16:04.116Z"
   },
   {
    "duration": 11,
    "start_time": "2022-11-26T09:16:04.169Z"
   },
   {
    "duration": 3,
    "start_time": "2022-11-26T09:16:04.182Z"
   },
   {
    "duration": 72,
    "start_time": "2022-11-26T09:16:04.187Z"
   },
   {
    "duration": 485,
    "start_time": "2022-11-26T09:16:04.261Z"
   },
   {
    "duration": 254386,
    "start_time": "2022-11-26T09:16:04.747Z"
   },
   {
    "duration": 163,
    "start_time": "2022-11-26T09:20:19.135Z"
   },
   {
    "duration": 99,
    "start_time": "2022-11-26T09:20:19.300Z"
   },
   {
    "duration": 0,
    "start_time": "2022-11-26T09:20:19.401Z"
   },
   {
    "duration": 0,
    "start_time": "2022-11-26T09:20:19.402Z"
   },
   {
    "duration": 0,
    "start_time": "2022-11-26T09:20:19.403Z"
   },
   {
    "duration": 0,
    "start_time": "2022-11-26T09:20:19.405Z"
   },
   {
    "duration": 0,
    "start_time": "2022-11-26T09:20:19.407Z"
   },
   {
    "duration": 0,
    "start_time": "2022-11-26T09:20:19.408Z"
   },
   {
    "duration": 0,
    "start_time": "2022-11-26T09:20:19.409Z"
   },
   {
    "duration": 0,
    "start_time": "2022-11-26T09:20:19.411Z"
   },
   {
    "duration": 0,
    "start_time": "2022-11-26T09:20:19.412Z"
   },
   {
    "duration": 0,
    "start_time": "2022-11-26T09:20:19.413Z"
   },
   {
    "duration": 0,
    "start_time": "2022-11-26T09:20:19.415Z"
   },
   {
    "duration": 0,
    "start_time": "2022-11-26T09:20:19.416Z"
   },
   {
    "duration": 0,
    "start_time": "2022-11-26T09:20:19.418Z"
   },
   {
    "duration": 74,
    "start_time": "2022-11-26T09:24:00.792Z"
   },
   {
    "duration": 290293,
    "start_time": "2022-11-26T09:27:02.859Z"
   },
   {
    "duration": 68,
    "start_time": "2022-11-26T09:34:59.063Z"
   },
   {
    "duration": 36855,
    "start_time": "2022-11-26T09:36:22.007Z"
   },
   {
    "duration": 21,
    "start_time": "2022-11-26T09:38:41.203Z"
   },
   {
    "duration": 263,
    "start_time": "2022-11-26T09:39:07.444Z"
   },
   {
    "duration": 266981,
    "start_time": "2022-11-26T09:40:43.550Z"
   },
   {
    "duration": 16,
    "start_time": "2022-11-26T09:54:32.241Z"
   },
   {
    "duration": 41,
    "start_time": "2022-11-26T09:54:44.527Z"
   },
   {
    "duration": 8,
    "start_time": "2022-11-26T09:54:54.633Z"
   },
   {
    "duration": 350,
    "start_time": "2022-11-26T09:55:09.042Z"
   },
   {
    "duration": 90,
    "start_time": "2022-11-26T09:56:00.853Z"
   },
   {
    "duration": 181,
    "start_time": "2022-11-26T09:56:22.150Z"
   },
   {
    "duration": 417990,
    "start_time": "2022-11-26T09:57:27.111Z"
   },
   {
    "duration": 168,
    "start_time": "2022-11-26T10:04:59.193Z"
   },
   {
    "duration": 13,
    "start_time": "2022-11-26T10:09:05.342Z"
   },
   {
    "duration": 3388,
    "start_time": "2022-11-26T10:09:17.766Z"
   },
   {
    "duration": 3062,
    "start_time": "2022-11-26T10:09:39.226Z"
   },
   {
    "duration": 100,
    "start_time": "2022-11-26T10:11:23.561Z"
   },
   {
    "duration": 368,
    "start_time": "2022-11-26T10:11:51.231Z"
   },
   {
    "duration": 395066,
    "start_time": "2022-11-26T10:11:56.369Z"
   },
   {
    "duration": 190,
    "start_time": "2022-11-26T10:18:31.437Z"
   },
   {
    "duration": 183,
    "start_time": "2022-11-26T10:20:32.360Z"
   },
   {
    "duration": 304,
    "start_time": "2022-11-26T10:28:25.730Z"
   },
   {
    "duration": 341,
    "start_time": "2022-11-26T10:28:42.494Z"
   },
   {
    "duration": 89,
    "start_time": "2022-11-26T10:31:51.464Z"
   },
   {
    "duration": 4,
    "start_time": "2022-11-26T10:49:18.164Z"
   },
   {
    "duration": 118,
    "start_time": "2022-11-26T10:49:35.995Z"
   },
   {
    "duration": 45,
    "start_time": "2022-11-26T10:49:51.533Z"
   },
   {
    "duration": 114,
    "start_time": "2022-11-26T10:55:01.094Z"
   },
   {
    "duration": 38,
    "start_time": "2022-11-26T11:42:48.186Z"
   },
   {
    "duration": 38,
    "start_time": "2022-11-26T11:44:05.708Z"
   },
   {
    "duration": 188,
    "start_time": "2022-11-26T11:44:35.949Z"
   },
   {
    "duration": 250,
    "start_time": "2022-11-26T11:44:56.988Z"
   },
   {
    "duration": 176,
    "start_time": "2022-11-26T11:45:09.548Z"
   },
   {
    "duration": 292,
    "start_time": "2022-11-26T11:47:12.032Z"
   },
   {
    "duration": 313,
    "start_time": "2022-11-26T11:47:27.911Z"
   },
   {
    "duration": 199,
    "start_time": "2022-11-26T11:49:22.234Z"
   },
   {
    "duration": 178,
    "start_time": "2022-11-26T11:49:34.634Z"
   },
   {
    "duration": 187,
    "start_time": "2022-11-26T11:50:07.276Z"
   },
   {
    "duration": 195,
    "start_time": "2022-11-26T11:50:26.475Z"
   },
   {
    "duration": 186,
    "start_time": "2022-11-26T12:02:09.516Z"
   },
   {
    "duration": 6,
    "start_time": "2022-11-26T12:03:02.964Z"
   },
   {
    "duration": 324,
    "start_time": "2022-11-26T12:03:13.267Z"
   },
   {
    "duration": 75,
    "start_time": "2022-11-26T12:03:29.769Z"
   },
   {
    "duration": 75,
    "start_time": "2022-11-26T12:04:47.537Z"
   },
   {
    "duration": 197,
    "start_time": "2022-11-26T12:05:05.718Z"
   },
   {
    "duration": 42,
    "start_time": "2022-11-26T12:07:28.702Z"
   },
   {
    "duration": 49,
    "start_time": "2022-11-26T12:11:42.135Z"
   },
   {
    "duration": 3,
    "start_time": "2022-11-26T12:12:51.265Z"
   },
   {
    "duration": 1563,
    "start_time": "2022-11-26T12:15:27.354Z"
   },
   {
    "duration": 35,
    "start_time": "2022-11-26T12:15:28.920Z"
   },
   {
    "duration": 15,
    "start_time": "2022-11-26T12:15:28.958Z"
   },
   {
    "duration": 19,
    "start_time": "2022-11-26T12:15:28.976Z"
   },
   {
    "duration": 23,
    "start_time": "2022-11-26T12:15:28.997Z"
   },
   {
    "duration": 35,
    "start_time": "2022-11-26T12:15:29.022Z"
   },
   {
    "duration": 9,
    "start_time": "2022-11-26T12:15:29.059Z"
   },
   {
    "duration": 45,
    "start_time": "2022-11-26T12:15:29.069Z"
   },
   {
    "duration": 38,
    "start_time": "2022-11-26T12:15:29.116Z"
   },
   {
    "duration": 16,
    "start_time": "2022-11-26T12:15:29.157Z"
   },
   {
    "duration": 32,
    "start_time": "2022-11-26T12:15:29.174Z"
   },
   {
    "duration": 17,
    "start_time": "2022-11-26T12:15:29.207Z"
   },
   {
    "duration": 24,
    "start_time": "2022-11-26T12:15:29.226Z"
   },
   {
    "duration": 14,
    "start_time": "2022-11-26T12:15:29.252Z"
   },
   {
    "duration": 22,
    "start_time": "2022-11-26T12:15:29.268Z"
   },
   {
    "duration": 71,
    "start_time": "2022-11-26T12:15:29.291Z"
   },
   {
    "duration": 5,
    "start_time": "2022-11-26T12:15:29.363Z"
   },
   {
    "duration": 86,
    "start_time": "2022-11-26T12:15:29.370Z"
   },
   {
    "duration": 417,
    "start_time": "2022-11-26T12:15:29.457Z"
   },
   {
    "duration": 271403,
    "start_time": "2022-11-26T12:15:29.876Z"
   },
   {
    "duration": 85,
    "start_time": "2022-11-26T12:20:01.280Z"
   },
   {
    "duration": 305975,
    "start_time": "2022-11-26T12:20:01.367Z"
   },
   {
    "duration": 41503,
    "start_time": "2022-11-26T12:25:07.344Z"
   },
   {
    "duration": 114,
    "start_time": "2022-11-26T12:25:48.852Z"
   },
   {
    "duration": 519,
    "start_time": "2022-11-26T12:25:48.972Z"
   },
   {
    "duration": 299285,
    "start_time": "2022-11-26T12:25:49.493Z"
   },
   {
    "duration": 19,
    "start_time": "2022-11-26T12:30:48.780Z"
   },
   {
    "duration": 53,
    "start_time": "2022-11-26T12:30:48.803Z"
   },
   {
    "duration": 99,
    "start_time": "2022-11-26T12:30:48.860Z"
   },
   {
    "duration": 463,
    "start_time": "2022-11-26T12:30:48.961Z"
   },
   {
    "duration": 183,
    "start_time": "2022-11-26T12:30:49.426Z"
   },
   {
    "duration": 401707,
    "start_time": "2022-11-26T12:30:49.610Z"
   },
   {
    "duration": 163,
    "start_time": "2022-11-26T12:37:31.319Z"
   },
   {
    "duration": 14,
    "start_time": "2022-11-26T12:37:31.484Z"
   },
   {
    "duration": 3205,
    "start_time": "2022-11-26T12:37:31.499Z"
   },
   {
    "duration": 33,
    "start_time": "2022-11-26T12:37:34.706Z"
   },
   {
    "duration": 145,
    "start_time": "2022-11-26T13:53:51.130Z"
   },
   {
    "duration": 333287,
    "start_time": "2022-11-26T13:55:16.442Z"
   },
   {
    "duration": 215,
    "start_time": "2022-11-26T14:09:40.910Z"
   },
   {
    "duration": 187,
    "start_time": "2022-11-26T14:09:51.709Z"
   },
   {
    "duration": 59,
    "start_time": "2022-11-26T14:19:50.604Z"
   },
   {
    "duration": 52,
    "start_time": "2022-11-26T14:19:58.645Z"
   },
   {
    "duration": 1783,
    "start_time": "2022-11-26T14:21:30.834Z"
   },
   {
    "duration": 53,
    "start_time": "2022-11-26T14:21:32.620Z"
   },
   {
    "duration": 27,
    "start_time": "2022-11-26T14:21:32.676Z"
   },
   {
    "duration": 14,
    "start_time": "2022-11-26T14:21:32.707Z"
   },
   {
    "duration": 23,
    "start_time": "2022-11-26T14:21:32.724Z"
   },
   {
    "duration": 41,
    "start_time": "2022-11-26T14:21:32.750Z"
   },
   {
    "duration": 33,
    "start_time": "2022-11-26T14:21:32.793Z"
   },
   {
    "duration": 30,
    "start_time": "2022-11-26T14:21:32.828Z"
   },
   {
    "duration": 29,
    "start_time": "2022-11-26T14:21:32.860Z"
   },
   {
    "duration": 6,
    "start_time": "2022-11-26T14:21:32.892Z"
   },
   {
    "duration": 25,
    "start_time": "2022-11-26T14:21:32.900Z"
   },
   {
    "duration": 31,
    "start_time": "2022-11-26T14:21:32.927Z"
   },
   {
    "duration": 26,
    "start_time": "2022-11-26T14:21:32.960Z"
   },
   {
    "duration": 25,
    "start_time": "2022-11-26T14:21:32.989Z"
   },
   {
    "duration": 53,
    "start_time": "2022-11-26T14:21:33.017Z"
   },
   {
    "duration": 58,
    "start_time": "2022-11-26T14:21:33.072Z"
   },
   {
    "duration": 22,
    "start_time": "2022-11-26T14:21:33.132Z"
   },
   {
    "duration": 196,
    "start_time": "2022-11-26T14:21:33.156Z"
   },
   {
    "duration": 427,
    "start_time": "2022-11-26T14:21:33.354Z"
   },
   {
    "duration": 277625,
    "start_time": "2022-11-26T14:21:33.782Z"
   },
   {
    "duration": 161,
    "start_time": "2022-11-26T14:26:11.409Z"
   },
   {
    "duration": 324633,
    "start_time": "2022-11-26T14:26:11.572Z"
   },
   {
    "duration": 38447,
    "start_time": "2022-11-26T14:31:36.207Z"
   },
   {
    "duration": 100,
    "start_time": "2022-11-26T14:32:14.655Z"
   },
   {
    "duration": 430,
    "start_time": "2022-11-26T14:32:14.757Z"
   },
   {
    "duration": 304651,
    "start_time": "2022-11-26T14:32:15.189Z"
   },
   {
    "duration": 41,
    "start_time": "2022-11-26T14:37:19.841Z"
   },
   {
    "duration": 168,
    "start_time": "2022-11-26T14:37:19.888Z"
   },
   {
    "duration": 12,
    "start_time": "2022-11-26T14:37:20.060Z"
   },
   {
    "duration": 461,
    "start_time": "2022-11-26T14:37:20.073Z"
   },
   {
    "duration": 187,
    "start_time": "2022-11-26T14:37:20.536Z"
   },
   {
    "duration": 52,
    "start_time": "2022-11-26T15:51:18.175Z"
   },
   {
    "duration": 1704,
    "start_time": "2022-11-26T15:51:50.493Z"
   },
   {
    "duration": 25,
    "start_time": "2022-11-26T15:51:52.199Z"
   },
   {
    "duration": 13,
    "start_time": "2022-11-26T15:51:52.226Z"
   },
   {
    "duration": 4,
    "start_time": "2022-11-26T15:51:52.240Z"
   },
   {
    "duration": 10,
    "start_time": "2022-11-26T15:51:52.246Z"
   },
   {
    "duration": 53,
    "start_time": "2022-11-26T15:51:52.258Z"
   },
   {
    "duration": 4,
    "start_time": "2022-11-26T15:51:52.313Z"
   },
   {
    "duration": 13,
    "start_time": "2022-11-26T15:51:52.319Z"
   },
   {
    "duration": 19,
    "start_time": "2022-11-26T15:51:52.334Z"
   },
   {
    "duration": 4,
    "start_time": "2022-11-26T15:51:52.355Z"
   },
   {
    "duration": 13,
    "start_time": "2022-11-26T15:51:52.396Z"
   },
   {
    "duration": 14,
    "start_time": "2022-11-26T15:51:52.410Z"
   },
   {
    "duration": 11,
    "start_time": "2022-11-26T15:51:52.426Z"
   },
   {
    "duration": 3,
    "start_time": "2022-11-26T15:51:52.440Z"
   },
   {
    "duration": 20,
    "start_time": "2022-11-26T15:51:52.444Z"
   },
   {
    "duration": 78,
    "start_time": "2022-11-26T15:51:52.466Z"
   },
   {
    "duration": 4,
    "start_time": "2022-11-26T15:51:52.545Z"
   },
   {
    "duration": 56,
    "start_time": "2022-11-26T15:51:52.550Z"
   },
   {
    "duration": 437,
    "start_time": "2022-11-26T15:51:52.696Z"
   },
   {
    "duration": 271383,
    "start_time": "2022-11-26T15:51:53.135Z"
   },
   {
    "duration": 141,
    "start_time": "2022-11-26T15:56:24.521Z"
   },
   {
    "duration": 335427,
    "start_time": "2022-11-26T15:56:24.664Z"
   },
   {
    "duration": 39390,
    "start_time": "2022-11-26T16:02:00.096Z"
   },
   {
    "duration": 27,
    "start_time": "2022-11-26T16:02:39.488Z"
   },
   {
    "duration": 514,
    "start_time": "2022-11-26T16:02:39.517Z"
   },
   {
    "duration": 310601,
    "start_time": "2022-11-26T16:02:40.032Z"
   },
   {
    "duration": 30,
    "start_time": "2022-11-26T16:07:50.635Z"
   },
   {
    "duration": 35,
    "start_time": "2022-11-26T16:07:50.667Z"
   },
   {
    "duration": 97,
    "start_time": "2022-11-26T16:07:50.704Z"
   },
   {
    "duration": 495,
    "start_time": "2022-11-26T16:07:50.802Z"
   },
   {
    "duration": 193,
    "start_time": "2022-11-26T16:07:51.299Z"
   },
   {
    "duration": 422000,
    "start_time": "2022-11-26T16:07:51.493Z"
   },
   {
    "duration": 170,
    "start_time": "2022-11-26T16:14:53.497Z"
   },
   {
    "duration": 28,
    "start_time": "2022-11-26T16:14:53.670Z"
   },
   {
    "duration": 3296,
    "start_time": "2022-11-26T16:14:53.700Z"
   },
   {
    "duration": 36,
    "start_time": "2022-11-26T16:14:56.997Z"
   },
   {
    "duration": 1586,
    "start_time": "2022-11-26T19:53:11.555Z"
   }
  ],
  "kernelspec": {
   "display_name": "Python 3 (ipykernel)",
   "language": "python",
   "name": "python3"
  },
  "language_info": {
   "codemirror_mode": {
    "name": "ipython",
    "version": 3
   },
   "file_extension": ".py",
   "mimetype": "text/x-python",
   "name": "python",
   "nbconvert_exporter": "python",
   "pygments_lexer": "ipython3",
   "version": "3.9.12"
  },
  "toc": {
   "base_numbering": 1,
   "nav_menu": {},
   "number_sections": true,
   "sideBar": true,
   "skip_h1_title": true,
   "title_cell": "Содержание",
   "title_sidebar": "Contents",
   "toc_cell": true,
   "toc_position": {},
   "toc_section_display": true,
   "toc_window_display": true
  }
 },
 "nbformat": 4,
 "nbformat_minor": 2
}
